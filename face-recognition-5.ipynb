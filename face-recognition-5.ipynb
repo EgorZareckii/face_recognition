{
 "cells": [
  {
   "cell_type": "code",
   "execution_count": null,
   "metadata": {
    "_cell_guid": "b1076dfc-b9ad-4769-8c92-a6c4dae69d19",
    "_uuid": "8f2839f25d086af736a60e9eeb907d3b93b6e0e5",
    "execution": {
     "iopub.execute_input": "2025-03-05T19:35:52.446578Z",
     "iopub.status.busy": "2025-03-05T19:35:52.446211Z",
     "iopub.status.idle": "2025-03-05T19:35:55.785501Z",
     "shell.execute_reply": "2025-03-05T19:35:55.782903Z",
     "shell.execute_reply.started": "2025-03-05T19:35:52.446553Z"
    },
    "trusted": true
   },
   "outputs": [],
   "source": [
    "# This Python 3 environment comes with many helpful analytics libraries installed\n",
    "# It is defined by the kaggle/python Docker image: https://github.com/kaggle/docker-python\n",
    "# For example, here's several helpful packages to load\n",
    "\n",
    "import numpy as np # linear algebra\n",
    "import pandas as pd # data processing, CSV file I/O (e.g. pd.read_csv)\n",
    "\n",
    "# Input data files are available in the read-only \"../input/\" directory\n",
    "# For example, running this (by clicking run or pressing Shift+Enter) will list all files under the input directory\n",
    "\n",
    "import os\n",
    "for dirname, _, filenames in os.walk('/kaggle/input'):\n",
    "    for filename in filenames:\n",
    "        print(os.path.join(dirname, filename))\n",
    "\n",
    "# You can write up to 20GB to the current directory (/kaggle/working/) that gets preserved as output when you create a version using \"Save & Run All\" \n",
    "# You can also write temporary files to /kaggle/temp/, but they won't be saved outside of the current session"
   ]
  },
  {
   "cell_type": "code",
   "execution_count": 1,
   "metadata": {
    "execution": {
     "iopub.execute_input": "2025-03-07T15:44:48.113336Z",
     "iopub.status.busy": "2025-03-07T15:44:48.113106Z",
     "iopub.status.idle": "2025-03-07T15:44:48.663016Z",
     "shell.execute_reply": "2025-03-07T15:44:48.662203Z",
     "shell.execute_reply.started": "2025-03-07T15:44:48.113314Z"
    },
    "trusted": true
   },
   "outputs": [
    {
     "name": "stdout",
     "output_type": "stream",
     "text": [
      "Path to dataset files: /kaggle/input/kryptonit-train\n"
     ]
    }
   ],
   "source": [
    "import kagglehub\n",
    "\n",
    "# Download latest version\n",
    "path = kagglehub.dataset_download(\"player77/kryptonit-train\")\n",
    "\n",
    "print(\"Path to dataset files:\", path)"
   ]
  },
  {
   "cell_type": "markdown",
   "metadata": {},
   "source": [
    "Разбиваю на триплеты для триплетного лоса: пара однорго человека + изображение другого  "
   ]
  },
  {
   "cell_type": "code",
   "execution_count": 2,
   "metadata": {
    "execution": {
     "iopub.execute_input": "2025-03-07T15:44:55.786214Z",
     "iopub.status.busy": "2025-03-07T15:44:55.785891Z",
     "iopub.status.idle": "2025-03-07T15:44:56.398536Z",
     "shell.execute_reply": "2025-03-07T15:44:56.397537Z",
     "shell.execute_reply.started": "2025-03-07T15:44:55.786188Z"
    },
    "trusted": true
   },
   "outputs": [
    {
     "name": "stdout",
     "output_type": "stream",
     "text": [
      "✔ Создано 91552 позитивных пар и 91552 негативных пар.\n"
     ]
    }
   ],
   "source": [
    "import random\n",
    "import json\n",
    "from itertools import combinations\n",
    "\n",
    "meta_path = \"/kaggle/input/kryptonit-train/train/meta.json\"\n",
    "\n",
    "\n",
    "\n",
    "with open(meta_path, \"r\") as f:\n",
    "    meta_data = json.load(f)\n",
    "\n",
    "\n",
    "real_images = {}  #словарь для реальных изображений\n",
    "fake_images = {}  #словарь для синтетических изображений\n",
    "\n",
    "for img_path, label in meta_data.items():\n",
    "    person_id, img_name = img_path.split(\"/\")  #разделяем индекс человека и номер изображения\n",
    "\n",
    "    if label == 0:\n",
    "        if person_id not in real_images:\n",
    "            real_images[person_id] = []\n",
    "        real_images[person_id].append(img_path)\n",
    "    else:\n",
    "        if person_id not in fake_images:\n",
    "            fake_images[f'{person_id}_fake'] = []\n",
    "        fake_images[f'{person_id}_fake'].append(img_path)\n",
    "\n",
    "\n",
    "from itertools import combinations\n",
    "import random\n",
    "\n",
    "positive_pairs = []\n",
    "negative_pairs = []\n",
    "\n",
    "#создаем пары\n",
    "for person, images in real_images.items():\n",
    "    if len(images) > 1:\n",
    "        positive_pairs += [(i,1) for i in combinations(images, 2)] # Все возможные пары для одного человека\n",
    "# пары без повторений и учета порядка - уникальные\n",
    "# Создаем негативные пары\n",
    "people = list(real_images.keys())\n",
    "people_fake = list(fake_images.keys())\n",
    "for _ in range(len(positive_pairs)):\n",
    "    if random.choice([True, False]):\n",
    "        p1, p2 = random.sample(people, 2)\n",
    "        img1 = random.choice(real_images[p1])\n",
    "        img2 = random.choice(real_images[p2])\n",
    "        negative_pairs.append(((img1, img2), -1))\n",
    "    else:\n",
    "        p1 = random.choice(people)\n",
    "        img1 = random.choice(real_images[p1])\n",
    "        img2 = random.choice(fake_images[f'{p1}_fake'])\n",
    "        negative_pairs.append(((img1, img2), -1))\n",
    "\n",
    "print(f\"✔ Создано {len(positive_pairs)} позитивных пар и {len(negative_pairs)} негативных пар.\")\n",
    "all_pairs = positive_pairs[:8000] + negative_pairs[:12000]\n",
    "\n",
    "all_paits = random.shuffle(all_pairs)"
   ]
  },
  {
   "cell_type": "code",
   "execution_count": null,
   "metadata": {
    "execution": {
     "iopub.execute_input": "2025-03-07T10:08:27.988626Z",
     "iopub.status.busy": "2025-03-07T10:08:27.988312Z",
     "iopub.status.idle": "2025-03-07T10:08:27.998300Z",
     "shell.execute_reply": "2025-03-07T10:08:27.997011Z",
     "shell.execute_reply.started": "2025-03-07T10:08:27.988602Z"
    },
    "trusted": true
   },
   "outputs": [],
   "source": [
    "train_triplets[0]"
   ]
  },
  {
   "cell_type": "markdown",
   "metadata": {},
   "source": [
    "Изучив TripletMarginLoss, мы увидели, что там используется евклидово расстояние, но по условию соревнования нам нужно оптимизировать косинусное. Поэтому перепишем функцию для косинусного расстояния:"
   ]
  },
  {
   "cell_type": "code",
   "execution_count": 3,
   "metadata": {
    "execution": {
     "iopub.execute_input": "2025-03-07T15:36:33.393763Z",
     "iopub.status.busy": "2025-03-07T15:36:33.393411Z",
     "iopub.status.idle": "2025-03-07T15:36:38.465331Z",
     "shell.execute_reply": "2025-03-07T15:36:38.464602Z",
     "shell.execute_reply.started": "2025-03-07T15:36:33.393734Z"
    },
    "trusted": true
   },
   "outputs": [],
   "source": [
    "import torch\n",
    "import torch.nn as nn\n",
    "import torch.nn.functional as F\n",
    "\n",
    "class TripletLossWithCosineDistance(nn.Module):\n",
    "    def __init__(self, margin=1):\n",
    "        super(TripletLossWithCosineDistance, self).__init__()\n",
    "        self.margin = margin\n",
    "\n",
    "    def forward(self, anchor, positive, negative):\n",
    "        cosine_sim_pos = F.cosine_similarity(anchor, positive, dim=1)\n",
    "        cosine_sim_neg = F.cosine_similarity(anchor, negative, dim=1)\n",
    "        cosine_distance_pos = 1 - cosine_sim_pos\n",
    "        cosine_distance_neg = 1 - cosine_sim_neg\n",
    "\n",
    "        losses = torch.relu(cosine_distance_pos - cosine_distance_neg + self.margin)\n",
    "        return losses.mean()"
   ]
  },
  {
   "cell_type": "code",
   "execution_count": 3,
   "metadata": {
    "execution": {
     "iopub.execute_input": "2025-03-07T15:45:00.942080Z",
     "iopub.status.busy": "2025-03-07T15:45:00.941711Z",
     "iopub.status.idle": "2025-03-07T15:45:04.453440Z",
     "shell.execute_reply": "2025-03-07T15:45:04.452332Z",
     "shell.execute_reply.started": "2025-03-07T15:45:00.942053Z"
    },
    "trusted": true
   },
   "outputs": [],
   "source": [
    "import torch\n",
    "from torch.utils.data import Dataset, DataLoader\n",
    "\n",
    "\n",
    "class FaceEshkereDataset(Dataset):\n",
    "  def __init__(self, pairs, mode):\n",
    "    self.pairs = pairs\n",
    "    self.mode = mode\n",
    "    self.transform_train = transforms.Compose([\n",
    "      transforms.Resize((112, 112)),\n",
    "      transforms.RandomHorizontalFlip(p=0.2),  # Горизонтальный флип\n",
    "      #transforms.ColorJitter(brightness=0.5, contrast=0.5),  # Изменение яркости и контраста\n",
    "      transforms.ToTensor(),\n",
    "      transforms.Normalize([0.5, 0.5, 0.5], [0.5, 0.5, 0.5])\n",
    "      ])\n",
    "    self.transform_test = transforms.Compose([\n",
    "      transforms.Resize((112, 112)),\n",
    "      transforms.ToTensor(),\n",
    "      transforms.Normalize([0.5, 0.5, 0.5], [0.5, 0.5, 0.5])\n",
    "      ])\n",
    "  def __len__(self):\n",
    "    return len(self.pairs)\n",
    "\n",
    "  def __getitem__(self, index):\n",
    "    path_to_image0 = Path(f\"/kaggle/input/kryptonit-train/train/images/{self.pairs[index][0][0]}\") #надо бы поменять конечно, но работает\n",
    "    path_to_image1 = Path(f\"/kaggle/input/kryptonit-train/train/images/{self.pairs[index][0][1]}\") #надо бы поменять конечно, но работает\n",
    "\n",
    "    label = self.pairs[index][1]\n",
    "\n",
    "    if self.mode == 'train':\n",
    "      image2 = self.transform_train(Image.open(path_to_image0))\n",
    "      image3 = self.transform_train(Image.open(path_to_image1))\n",
    "    if self.mode == 'test':\n",
    "      image2 = self.transform_test(Image.open(path_to_image0))\n",
    "      image3 = self.transform_test(Image.open(path_to_image1))\n",
    "\n",
    "    return image2, image3, label\n"
   ]
  },
  {
   "cell_type": "code",
   "execution_count": 4,
   "metadata": {
    "execution": {
     "iopub.execute_input": "2025-03-07T15:45:04.455073Z",
     "iopub.status.busy": "2025-03-07T15:45:04.454595Z",
     "iopub.status.idle": "2025-03-07T15:45:10.777005Z",
     "shell.execute_reply": "2025-03-07T15:45:10.776327Z",
     "shell.execute_reply.started": "2025-03-07T15:45:04.455047Z"
    },
    "trusted": true
   },
   "outputs": [],
   "source": [
    "import os\n",
    "import torch\n",
    "import torchvision.transforms as transforms\n",
    "from torch.utils.data import Dataset, DataLoader\n",
    "#mport insightface\n",
    "#from insightface.app import FaceAnalysis\n",
    "import cv2\n",
    "import numpy as np\n",
    "#import insightface\n",
    "\n",
    "import glob\n",
    "import numpy as np\n",
    "import matplotlib.pyplot as plt\n",
    "import cv2\n",
    "from pathlib import Path\n",
    "from tqdm import tqdm\n",
    "import pandas as pd\n",
    "import traceback\n",
    "#import onnxruntime as ort\n",
    "#from insightface.app import FaceAnalysis\n",
    "from sklearn.neighbors import NearestNeighbors\n",
    "from numpy.linalg import norm\n",
    "from PIL import Image"
   ]
  },
  {
   "cell_type": "code",
   "execution_count": 6,
   "metadata": {
    "execution": {
     "iopub.execute_input": "2025-03-07T15:45:27.473474Z",
     "iopub.status.busy": "2025-03-07T15:45:27.473154Z",
     "iopub.status.idle": "2025-03-07T15:45:27.482823Z",
     "shell.execute_reply": "2025-03-07T15:45:27.481987Z",
     "shell.execute_reply.started": "2025-03-07T15:45:27.473453Z"
    },
    "trusted": true
   },
   "outputs": [],
   "source": [
    "from sklearn.model_selection import train_test_split\n",
    "\n",
    "train_pairs, val_pairs = train_test_split(all_pairs, test_size=0.1, random_state=42) #разобьем выборку на треин и валидацию"
   ]
  },
  {
   "cell_type": "code",
   "execution_count": 7,
   "metadata": {
    "execution": {
     "iopub.execute_input": "2025-03-07T15:45:29.498497Z",
     "iopub.status.busy": "2025-03-07T15:45:29.498195Z",
     "iopub.status.idle": "2025-03-07T15:45:29.506108Z",
     "shell.execute_reply": "2025-03-07T15:45:29.505195Z",
     "shell.execute_reply.started": "2025-03-07T15:45:29.498474Z"
    },
    "trusted": true
   },
   "outputs": [],
   "source": [
    "from torchvision import transforms\n",
    "\n",
    "\n",
    "train_dataset = FaceEshkereDataset(train_pairs, 'train')\n",
    "val_dataset = FaceEshkereDataset(val_pairs, 'test')\n",
    "\n",
    "#test_dataset = FaceEshkereDataset(test_pairs, 'test') # для оценки метрики\n",
    "\n",
    "#test_dataloader = DataLoader(test_dataset, batch_size=64, shuffle=True)\n",
    "train_dataloader = DataLoader(train_dataset, batch_size=64, shuffle=True, num_workers=2, pin_memory=True)\n",
    "val_dataloader = DataLoader(val_dataset, batch_size=64, shuffle=True, num_workers=2, pin_memory=True)"
   ]
  },
  {
   "cell_type": "code",
   "execution_count": 8,
   "metadata": {
    "execution": {
     "iopub.execute_input": "2025-03-07T15:45:56.798661Z",
     "iopub.status.busy": "2025-03-07T15:45:56.798336Z",
     "iopub.status.idle": "2025-03-07T15:46:01.241989Z",
     "shell.execute_reply": "2025-03-07T15:46:01.241039Z",
     "shell.execute_reply.started": "2025-03-07T15:45:56.798633Z"
    },
    "trusted": true
   },
   "outputs": [
    {
     "name": "stdout",
     "output_type": "stream",
     "text": [
      "Requirement already satisfied: huggingface_hub in /usr/local/lib/python3.10/dist-packages (0.29.0)\n",
      "Requirement already satisfied: filelock in /usr/local/lib/python3.10/dist-packages (from huggingface_hub) (3.17.0)\n",
      "Requirement already satisfied: fsspec>=2023.5.0 in /usr/local/lib/python3.10/dist-packages (from huggingface_hub) (2024.12.0)\n",
      "Requirement already satisfied: packaging>=20.9 in /usr/local/lib/python3.10/dist-packages (from huggingface_hub) (24.2)\n",
      "Requirement already satisfied: pyyaml>=5.1 in /usr/local/lib/python3.10/dist-packages (from huggingface_hub) (6.0.2)\n",
      "Requirement already satisfied: requests in /usr/local/lib/python3.10/dist-packages (from huggingface_hub) (2.32.3)\n",
      "Requirement already satisfied: tqdm>=4.42.1 in /usr/local/lib/python3.10/dist-packages (from huggingface_hub) (4.67.1)\n",
      "Requirement already satisfied: typing-extensions>=3.7.4.3 in /usr/local/lib/python3.10/dist-packages (from huggingface_hub) (4.12.2)\n",
      "Requirement already satisfied: charset-normalizer<4,>=2 in /usr/local/lib/python3.10/dist-packages (from requests->huggingface_hub) (3.4.1)\n",
      "Requirement already satisfied: idna<4,>=2.5 in /usr/local/lib/python3.10/dist-packages (from requests->huggingface_hub) (3.10)\n",
      "Requirement already satisfied: urllib3<3,>=1.21.1 in /usr/local/lib/python3.10/dist-packages (from requests->huggingface_hub) (2.3.0)\n",
      "Requirement already satisfied: certifi>=2017.4.17 in /usr/local/lib/python3.10/dist-packages (from requests->huggingface_hub) (2025.1.31)\n"
     ]
    }
   ],
   "source": [
    "!pip install huggingface_hub\n",
    "\n",
    "from huggingface_hub import login"
   ]
  },
  {
   "cell_type": "code",
   "execution_count": null,
   "metadata": {
    "execution": {
     "iopub.execute_input": "2025-03-06T19:05:26.539000Z",
     "iopub.status.busy": "2025-03-06T19:05:26.538732Z",
     "iopub.status.idle": "2025-03-06T19:05:26.899032Z",
     "shell.execute_reply": "2025-03-06T19:05:26.898368Z",
     "shell.execute_reply.started": "2025-03-06T19:05:26.538959Z"
    },
    "trusted": true
   },
   "outputs": [],
   "source": [
    "\n",
    "# Ваш Access Token\n",
    "token = \"YOUR TOKEN\"\n",
    "\n",
    "# Авторизация\n",
    "login(token)"
   ]
  },
  {
   "cell_type": "markdown",
   "metadata": {},
   "source": [
    "Модель ArcFace"
   ]
  },
  {
   "cell_type": "code",
   "execution_count": null,
   "metadata": {
    "execution": {
     "iopub.execute_input": "2025-03-07T10:31:48.940532Z",
     "iopub.status.busy": "2025-03-07T10:31:48.940156Z",
     "iopub.status.idle": "2025-03-07T10:31:49.905086Z",
     "shell.execute_reply": "2025-03-07T10:31:49.904392Z",
     "shell.execute_reply.started": "2025-03-07T10:31:48.940501Z"
    },
    "trusted": true
   },
   "outputs": [],
   "source": [
    "import timm\n",
    "import torch.nn.functional as F\n",
    "\n",
    "model = timm.create_model(\"hf_hub:gaunernst/vit_tiny_patch8_112.arcface_ms1mv3\", pretrained=True)"
   ]
  },
  {
   "cell_type": "code",
   "execution_count": null,
   "metadata": {
    "execution": {
     "iopub.execute_input": "2025-03-06T19:21:15.406575Z",
     "iopub.status.busy": "2025-03-06T19:21:15.406280Z",
     "iopub.status.idle": "2025-03-06T19:21:15.487566Z",
     "shell.execute_reply": "2025-03-06T19:21:15.486722Z",
     "shell.execute_reply.started": "2025-03-06T19:21:15.406554Z"
    },
    "trusted": true
   },
   "outputs": [],
   "source": [
    "\n",
    "weights = torch.load('/kaggle/input/weights/model_weights_epoch_20.pth', weights_only=True)\n",
    "model.load_state_dict(weights)"
   ]
  },
  {
   "cell_type": "markdown",
   "metadata": {},
   "source": [
    "Модель AdaFace"
   ]
  },
  {
   "cell_type": "code",
   "execution_count": 9,
   "metadata": {
    "execution": {
     "iopub.execute_input": "2025-03-07T15:46:05.471885Z",
     "iopub.status.busy": "2025-03-07T15:46:05.471511Z",
     "iopub.status.idle": "2025-03-07T15:46:16.509125Z",
     "shell.execute_reply": "2025-03-07T15:46:16.508214Z",
     "shell.execute_reply.started": "2025-03-07T15:46:05.471855Z"
    },
    "trusted": true
   },
   "outputs": [
    {
     "name": "stdout",
     "output_type": "stream",
     "text": [
      "Requirement already satisfied: omegaconf in /usr/local/lib/python3.10/dist-packages (2.3.0)\n",
      "Requirement already satisfied: antlr4-python3-runtime==4.9.* in /usr/local/lib/python3.10/dist-packages (from omegaconf) (4.9.3)\n",
      "Requirement already satisfied: PyYAML>=5.1.0 in /usr/local/lib/python3.10/dist-packages (from omegaconf) (6.0.2)\n",
      "Collecting fvcore\n",
      "  Downloading fvcore-0.1.5.post20221221.tar.gz (50 kB)\n",
      "\u001b[2K     \u001b[90m━━━━━━━━━━━━━━━━━━━━━━━━━━━━━━━━━━━━━━━━\u001b[0m \u001b[32m50.2/50.2 kB\u001b[0m \u001b[31m1.6 MB/s\u001b[0m eta \u001b[36m0:00:00\u001b[0m\n",
      "\u001b[?25h  Preparing metadata (setup.py) ... \u001b[?25l\u001b[?25hdone\n",
      "Requirement already satisfied: numpy in /usr/local/lib/python3.10/dist-packages (from fvcore) (1.26.4)\n",
      "Collecting yacs>=0.1.6 (from fvcore)\n",
      "  Downloading yacs-0.1.8-py3-none-any.whl.metadata (639 bytes)\n",
      "Requirement already satisfied: pyyaml>=5.1 in /usr/local/lib/python3.10/dist-packages (from fvcore) (6.0.2)\n",
      "Requirement already satisfied: tqdm in /usr/local/lib/python3.10/dist-packages (from fvcore) (4.67.1)\n",
      "Requirement already satisfied: termcolor>=1.1 in /usr/local/lib/python3.10/dist-packages (from fvcore) (2.5.0)\n",
      "Requirement already satisfied: Pillow in /usr/local/lib/python3.10/dist-packages (from fvcore) (11.0.0)\n",
      "Requirement already satisfied: tabulate in /usr/local/lib/python3.10/dist-packages (from fvcore) (0.9.0)\n",
      "Collecting iopath>=0.1.7 (from fvcore)\n",
      "  Downloading iopath-0.1.10.tar.gz (42 kB)\n",
      "\u001b[2K     \u001b[90m━━━━━━━━━━━━━━━━━━━━━━━━━━━━━━━━━━━━━━━━\u001b[0m \u001b[32m42.2/42.2 kB\u001b[0m \u001b[31m2.4 MB/s\u001b[0m eta \u001b[36m0:00:00\u001b[0m\n",
      "\u001b[?25h  Preparing metadata (setup.py) ... \u001b[?25l\u001b[?25hdone\n",
      "Requirement already satisfied: typing_extensions in /usr/local/lib/python3.10/dist-packages (from iopath>=0.1.7->fvcore) (4.12.2)\n",
      "Collecting portalocker (from iopath>=0.1.7->fvcore)\n",
      "  Downloading portalocker-3.1.1-py3-none-any.whl.metadata (8.6 kB)\n",
      "Requirement already satisfied: mkl_fft in /usr/local/lib/python3.10/dist-packages (from numpy->fvcore) (1.3.8)\n",
      "Requirement already satisfied: mkl_random in /usr/local/lib/python3.10/dist-packages (from numpy->fvcore) (1.2.4)\n",
      "Requirement already satisfied: mkl_umath in /usr/local/lib/python3.10/dist-packages (from numpy->fvcore) (0.1.1)\n",
      "Requirement already satisfied: mkl in /usr/local/lib/python3.10/dist-packages (from numpy->fvcore) (2025.0.1)\n",
      "Requirement already satisfied: tbb4py in /usr/local/lib/python3.10/dist-packages (from numpy->fvcore) (2022.0.0)\n",
      "Requirement already satisfied: mkl-service in /usr/local/lib/python3.10/dist-packages (from numpy->fvcore) (2.4.1)\n",
      "Requirement already satisfied: intel-openmp>=2024 in /usr/local/lib/python3.10/dist-packages (from mkl->numpy->fvcore) (2024.2.0)\n",
      "Requirement already satisfied: tbb==2022.* in /usr/local/lib/python3.10/dist-packages (from mkl->numpy->fvcore) (2022.0.0)\n",
      "Requirement already satisfied: tcmlib==1.* in /usr/local/lib/python3.10/dist-packages (from tbb==2022.*->mkl->numpy->fvcore) (1.2.0)\n",
      "Requirement already satisfied: intel-cmplr-lib-rt in /usr/local/lib/python3.10/dist-packages (from mkl_umath->numpy->fvcore) (2024.2.0)\n",
      "Requirement already satisfied: intel-cmplr-lib-ur==2024.2.0 in /usr/local/lib/python3.10/dist-packages (from intel-openmp>=2024->mkl->numpy->fvcore) (2024.2.0)\n",
      "Downloading yacs-0.1.8-py3-none-any.whl (14 kB)\n",
      "Downloading portalocker-3.1.1-py3-none-any.whl (19 kB)\n",
      "Building wheels for collected packages: fvcore, iopath\n",
      "  Building wheel for fvcore (setup.py) ... \u001b[?25l\u001b[?25hdone\n",
      "  Created wheel for fvcore: filename=fvcore-0.1.5.post20221221-py3-none-any.whl size=61396 sha256=03e7b067b43e701fb5cca6690feed85e03599919b27f611b594af780664ad232\n",
      "  Stored in directory: /root/.cache/pip/wheels/01/c0/af/77c1cf53a1be9e42a52b48e5af2169d40ec2e89f7362489dd0\n",
      "  Building wheel for iopath (setup.py) ... \u001b[?25l\u001b[?25hdone\n",
      "  Created wheel for iopath: filename=iopath-0.1.10-py3-none-any.whl size=31528 sha256=1d330272926192ef25a01b1ad5b9d895f42bd34316b2c63af46cc573bb8c86b6\n",
      "  Stored in directory: /root/.cache/pip/wheels/9a/a3/b6/ac0fcd1b4ed5cfeb3db92e6a0e476cfd48ed0df92b91080c1d\n",
      "Successfully built fvcore iopath\n",
      "Installing collected packages: yacs, portalocker, iopath, fvcore\n",
      "Successfully installed fvcore-0.1.5.post20221221 iopath-0.1.10 portalocker-3.1.1 yacs-0.1.8\n"
     ]
    }
   ],
   "source": [
    "!pip install omegaconf\n",
    "!pip install fvcore"
   ]
  },
  {
   "cell_type": "code",
   "execution_count": 10,
   "metadata": {
    "execution": {
     "iopub.execute_input": "2025-03-07T15:46:26.120237Z",
     "iopub.status.busy": "2025-03-07T15:46:26.119913Z",
     "iopub.status.idle": "2025-03-07T15:46:54.577518Z",
     "shell.execute_reply": "2025-03-07T15:46:54.576721Z",
     "shell.execute_reply.started": "2025-03-07T15:46:26.120214Z"
    },
    "trusted": true
   },
   "outputs": [
    {
     "name": "stderr",
     "output_type": "stream",
     "text": [
      "/usr/local/lib/python3.10/dist-packages/huggingface_hub/file_download.py:834: UserWarning: `local_dir_use_symlinks` parameter is deprecated and will be ignored. The process to download files to a local folder has been updated and do not rely on symlinks anymore. You only need to pass a destination folder as`local_dir`.\n",
      "For more details, check out https://huggingface.co/docs/huggingface_hub/main/en/guides/download#download-files-to-local-folder.\n",
      "  warnings.warn(\n"
     ]
    },
    {
     "data": {
      "application/vnd.jupyter.widget-view+json": {
       "model_id": "35aaf09385b64a5392f1c02c835a6f8d",
       "version_major": 2,
       "version_minor": 0
      },
      "text/plain": [
       "files.txt:   0%|          | 0.00/296 [00:00<?, ?B/s]"
      ]
     },
     "metadata": {},
     "output_type": "display_data"
    },
    {
     "data": {
      "application/vnd.jupyter.widget-view+json": {
       "model_id": "af44adbefce543ba9239f929e1c83861",
       "version_major": 2,
       "version_minor": 0
      },
      "text/plain": [
       "README.md:   0%|          | 0.00/2.82k [00:00<?, ?B/s]"
      ]
     },
     "metadata": {},
     "output_type": "display_data"
    },
    {
     "data": {
      "application/vnd.jupyter.widget-view+json": {
       "model_id": "d8b65650a14f46d1af8f52f86e7220bf",
       "version_major": 2,
       "version_minor": 0
      },
      "text/plain": [
       "model.pt:   0%|          | 0.00/460M [00:00<?, ?B/s]"
      ]
     },
     "metadata": {},
     "output_type": "display_data"
    },
    {
     "data": {
      "application/vnd.jupyter.widget-view+json": {
       "model_id": "8e2fd8cde10a4361847e20833874415f",
       "version_major": 2,
       "version_minor": 0
      },
      "text/plain": [
       "model.yaml:   0%|          | 0.00/161 [00:00<?, ?B/s]"
      ]
     },
     "metadata": {},
     "output_type": "display_data"
    },
    {
     "data": {
      "application/vnd.jupyter.widget-view+json": {
       "model_id": "f384db04193e43f6ad4b3425f12ff13f",
       "version_major": 2,
       "version_minor": 0
      },
      "text/plain": [
       "config.yaml:   0%|          | 0.00/54.0 [00:00<?, ?B/s]"
      ]
     },
     "metadata": {},
     "output_type": "display_data"
    },
    {
     "data": {
      "application/vnd.jupyter.widget-view+json": {
       "model_id": "9d8687d9481e4000addeaf24bf5e4124",
       "version_major": 2,
       "version_minor": 0
      },
      "text/plain": [
       "__init__.py:   0%|          | 0.00/2.00k [00:00<?, ?B/s]"
      ]
     },
     "metadata": {},
     "output_type": "display_data"
    },
    {
     "data": {
      "application/vnd.jupyter.widget-view+json": {
       "model_id": "796278bae60343b8baafa834399795f6",
       "version_major": 2,
       "version_minor": 0
      },
      "text/plain": [
       "vit.py:   0%|          | 0.00/10.1k [00:00<?, ?B/s]"
      ]
     },
     "metadata": {},
     "output_type": "display_data"
    },
    {
     "data": {
      "application/vnd.jupyter.widget-view+json": {
       "model_id": "5fec474a9b004d7394ca55dc75bb4a38",
       "version_major": 2,
       "version_minor": 0
      },
      "text/plain": [
       "__init__.py:   0%|          | 0.00/2.51k [00:00<?, ?B/s]"
      ]
     },
     "metadata": {},
     "output_type": "display_data"
    },
    {
     "data": {
      "application/vnd.jupyter.widget-view+json": {
       "model_id": "19111296dfb9495390e3fc9ef6758cf0",
       "version_major": 2,
       "version_minor": 0
      },
      "text/plain": [
       "v1_small.yaml:   0%|          | 0.00/119 [00:00<?, ?B/s]"
      ]
     },
     "metadata": {},
     "output_type": "display_data"
    },
    {
     "data": {
      "application/vnd.jupyter.widget-view+json": {
       "model_id": "cdd8b7f6926b435187357f46f018228a",
       "version_major": 2,
       "version_minor": 0
      },
      "text/plain": [
       "v1_base.yaml:   0%|          | 0.00/118 [00:00<?, ?B/s]"
      ]
     },
     "metadata": {},
     "output_type": "display_data"
    },
    {
     "data": {
      "application/vnd.jupyter.widget-view+json": {
       "model_id": "60e43888081a4c4b910ac704c05ebd63",
       "version_major": 2,
       "version_minor": 0
      },
      "text/plain": [
       "utils.py:   0%|          | 0.00/3.12k [00:00<?, ?B/s]"
      ]
     },
     "metadata": {},
     "output_type": "display_data"
    },
    {
     "data": {
      "application/vnd.jupyter.widget-view+json": {
       "model_id": "0b2fd563d903481d845b182938e5f54c",
       "version_major": 2,
       "version_minor": 0
      },
      "text/plain": [
       "__init__.py:   0%|          | 0.00/5.39k [00:00<?, ?B/s]"
      ]
     },
     "metadata": {},
     "output_type": "display_data"
    },
    {
     "data": {
      "application/vnd.jupyter.widget-view+json": {
       "model_id": "d5a76b4304494e60a90bb1ec3615ba0d",
       "version_major": 2,
       "version_minor": 0
      },
      "text/plain": [
       "example.yaml:   0%|          | 0.00/98.0 [00:00<?, ?B/s]"
      ]
     },
     "metadata": {},
     "output_type": "display_data"
    },
    {
     "data": {
      "application/vnd.jupyter.widget-view+json": {
       "model_id": "e6697566c03746e58c82393555046b70",
       "version_major": 2,
       "version_minor": 0
      },
      "text/plain": [
       "config.json:   0%|          | 0.00/496 [00:00<?, ?B/s]"
      ]
     },
     "metadata": {},
     "output_type": "display_data"
    },
    {
     "data": {
      "application/vnd.jupyter.widget-view+json": {
       "model_id": "3b99d7b8789a48c294f08481d96dd5e4",
       "version_major": 2,
       "version_minor": 0
      },
      "text/plain": [
       "wrapper.py:   0%|          | 0.00/766 [00:00<?, ?B/s]"
      ]
     },
     "metadata": {},
     "output_type": "display_data"
    },
    {
     "data": {
      "application/vnd.jupyter.widget-view+json": {
       "model_id": "7364cc26ec904e958675ac2503cecb6e",
       "version_major": 2,
       "version_minor": 0
      },
      "text/plain": [
       "model.safetensors:   0%|          | 0.00/460M [00:00<?, ?B/s]"
      ]
     },
     "metadata": {},
     "output_type": "display_data"
    },
    {
     "name": "stderr",
     "output_type": "stream",
     "text": [
      "/usr/local/lib/python3.10/dist-packages/timm/models/layers/__init__.py:48: FutureWarning: Importing from timm.models.layers is deprecated, please import via timm.layers\n",
      "  warnings.warn(f\"Importing from {__name__} is deprecated, please import via timm.layers\", FutureWarning)\n"
     ]
    },
    {
     "name": "stdout",
     "output_type": "stream",
     "text": [
      "Loaded ViT model\n"
     ]
    },
    {
     "name": "stderr",
     "output_type": "stream",
     "text": [
      "/root/.cvlface_cache/minchul/cvlface_adaface_vit_base_webface4m/models/base/utils.py:60: FutureWarning: You are using `torch.load` with `weights_only=False` (the current default value), which uses the default pickle module implicitly. It is possible to construct malicious pickle data which will execute arbitrary code during unpickling (See https://github.com/pytorch/pytorch/blob/main/SECURITY.md#untrusted-models for more details). In a future release, the default value for `weights_only` will be flipped to `True`. This limits the functions that could be executed during unpickling. Arbitrary objects will no longer be allowed to be loaded via this mode unless they are explicitly allowlisted by the user via `torch.serialization.add_safe_globals`. We recommend you start setting `weights_only=True` for any use case where you don't have full control of the loaded file. Please open an issue on GitHub for any issues related to this experimental feature.\n",
      "  state_dict = torch.load(path, map_location=\"cpu\")\n"
     ]
    },
    {
     "name": "stdout",
     "output_type": "stream",
     "text": [
      "compatible keys in state_dict 281 / 281\n",
      "Check\n",
      "\n",
      "\n",
      "<All keys matched successfully>\n",
      "Loaded pretrained model from pretrained_model/model.pt\n"
     ]
    }
   ],
   "source": [
    "from transformers import AutoModel\n",
    "from huggingface_hub import hf_hub_download\n",
    "import shutil\n",
    "import os\n",
    "import torch\n",
    "import sys\n",
    "from torchvision import transforms  \n",
    "\n",
    "from torchvision.transforms import Compose, ToTensor, Normalize\n",
    "from PIL import Image\n",
    "\n",
    "# helpfer function to download huggingface repo and use model\n",
    "def download(repo_id, path, HF_TOKEN=None):\n",
    "    os.makedirs(path, exist_ok=True)\n",
    "    files_path = os.path.join(path, 'files.txt')\n",
    "    if not os.path.exists(files_path):\n",
    "        hf_hub_download(repo_id, 'files.txt', token=HF_TOKEN, local_dir=path, local_dir_use_symlinks=False)\n",
    "    with open(os.path.join(path, 'files.txt'), 'r') as f:\n",
    "        files = f.read().split('\\n')\n",
    "    for file in [f for f in files if f] + ['config.json', 'wrapper.py', 'model.safetensors']:\n",
    "        full_path = os.path.join(path, file)\n",
    "        if not os.path.exists(full_path):\n",
    "            hf_hub_download(repo_id, file, token=HF_TOKEN, local_dir=path, local_dir_use_symlinks=False)\n",
    "\n",
    "            \n",
    "# helpfer function to download huggingface repo and use model\n",
    "def load_model_from_local_path(path, HF_TOKEN=None):\n",
    "    cwd = os.getcwd()\n",
    "    os.chdir(path)\n",
    "    sys.path.insert(0, path)\n",
    "    model = AutoModel.from_pretrained(path, trust_remote_code=True, token=HF_TOKEN)\n",
    "    os.chdir(cwd)\n",
    "    sys.path.pop(0)\n",
    "    return model\n",
    "\n",
    "\n",
    "# helpfer function to download huggingface repo and use model\n",
    "def load_model_by_repo_id(repo_id, save_path, HF_TOKEN=None, force_download=False):\n",
    "    if force_download:\n",
    "        if os.path.exists(save_path):\n",
    "            shutil.rmtree(save_path)\n",
    "    download(repo_id, save_path, HF_TOKEN)\n",
    "    return load_model_from_local_path(save_path, HF_TOKEN)\n",
    "\n",
    "\n",
    "\n",
    "    \n",
    "HF_TOKEN = 'YOUR_TOKEN'\n",
    "path = os.path.expanduser('~/.cvlface_cache/minchul/cvlface_adaface_vit_base_webface4m')\n",
    "repo_id = 'minchul/cvlface_adaface_vit_base_webface4m'\n",
    "model = load_model_by_repo_id(repo_id, path, HF_TOKEN)\n",
    "\n",
    "    # input is a rgb image normalized.\n",
    "\n"
   ]
  },
  {
   "cell_type": "code",
   "execution_count": 13,
   "metadata": {
    "execution": {
     "iopub.execute_input": "2025-03-07T15:46:59.914467Z",
     "iopub.status.busy": "2025-03-07T15:46:59.914152Z",
     "iopub.status.idle": "2025-03-07T15:46:59.968379Z",
     "shell.execute_reply": "2025-03-07T15:46:59.967702Z",
     "shell.execute_reply.started": "2025-03-07T15:46:59.914436Z"
    },
    "trusted": true
   },
   "outputs": [
    {
     "name": "stdout",
     "output_type": "stream",
     "text": [
      "Параметр model.net.pos_embed обучаемый: False\n",
      "Параметр model.net.patch_embed.proj.weight обучаемый: False\n",
      "Параметр model.net.patch_embed.proj.bias обучаемый: False\n",
      "Параметр model.net.blocks.0.norm1.weight обучаемый: False\n",
      "Параметр model.net.blocks.0.norm1.bias обучаемый: False\n",
      "Параметр model.net.blocks.0.norm2.weight обучаемый: False\n",
      "Параметр model.net.blocks.0.norm2.bias обучаемый: False\n",
      "Параметр model.net.blocks.0.attn.qkv.weight обучаемый: False\n",
      "Параметр model.net.blocks.0.attn.proj.weight обучаемый: False\n",
      "Параметр model.net.blocks.0.attn.proj.bias обучаемый: False\n",
      "Параметр model.net.blocks.0.mlp.fc1.weight обучаемый: False\n",
      "Параметр model.net.blocks.0.mlp.fc1.bias обучаемый: False\n",
      "Параметр model.net.blocks.0.mlp.fc2.weight обучаемый: False\n",
      "Параметр model.net.blocks.0.mlp.fc2.bias обучаемый: False\n",
      "Параметр model.net.blocks.1.norm1.weight обучаемый: False\n",
      "Параметр model.net.blocks.1.norm1.bias обучаемый: False\n",
      "Параметр model.net.blocks.1.norm2.weight обучаемый: False\n",
      "Параметр model.net.blocks.1.norm2.bias обучаемый: False\n",
      "Параметр model.net.blocks.1.attn.qkv.weight обучаемый: False\n",
      "Параметр model.net.blocks.1.attn.proj.weight обучаемый: False\n",
      "Параметр model.net.blocks.1.attn.proj.bias обучаемый: False\n",
      "Параметр model.net.blocks.1.mlp.fc1.weight обучаемый: False\n",
      "Параметр model.net.blocks.1.mlp.fc1.bias обучаемый: False\n",
      "Параметр model.net.blocks.1.mlp.fc2.weight обучаемый: False\n",
      "Параметр model.net.blocks.1.mlp.fc2.bias обучаемый: False\n",
      "Параметр model.net.blocks.2.norm1.weight обучаемый: False\n",
      "Параметр model.net.blocks.2.norm1.bias обучаемый: False\n",
      "Параметр model.net.blocks.2.norm2.weight обучаемый: False\n",
      "Параметр model.net.blocks.2.norm2.bias обучаемый: False\n",
      "Параметр model.net.blocks.2.attn.qkv.weight обучаемый: False\n",
      "Параметр model.net.blocks.2.attn.proj.weight обучаемый: False\n",
      "Параметр model.net.blocks.2.attn.proj.bias обучаемый: False\n",
      "Параметр model.net.blocks.2.mlp.fc1.weight обучаемый: False\n",
      "Параметр model.net.blocks.2.mlp.fc1.bias обучаемый: False\n",
      "Параметр model.net.blocks.2.mlp.fc2.weight обучаемый: False\n",
      "Параметр model.net.blocks.2.mlp.fc2.bias обучаемый: False\n",
      "Параметр model.net.blocks.3.norm1.weight обучаемый: False\n",
      "Параметр model.net.blocks.3.norm1.bias обучаемый: False\n",
      "Параметр model.net.blocks.3.norm2.weight обучаемый: False\n",
      "Параметр model.net.blocks.3.norm2.bias обучаемый: False\n",
      "Параметр model.net.blocks.3.attn.qkv.weight обучаемый: False\n",
      "Параметр model.net.blocks.3.attn.proj.weight обучаемый: False\n",
      "Параметр model.net.blocks.3.attn.proj.bias обучаемый: False\n",
      "Параметр model.net.blocks.3.mlp.fc1.weight обучаемый: False\n",
      "Параметр model.net.blocks.3.mlp.fc1.bias обучаемый: False\n",
      "Параметр model.net.blocks.3.mlp.fc2.weight обучаемый: False\n",
      "Параметр model.net.blocks.3.mlp.fc2.bias обучаемый: False\n",
      "Параметр model.net.blocks.4.norm1.weight обучаемый: False\n",
      "Параметр model.net.blocks.4.norm1.bias обучаемый: False\n",
      "Параметр model.net.blocks.4.norm2.weight обучаемый: False\n",
      "Параметр model.net.blocks.4.norm2.bias обучаемый: False\n",
      "Параметр model.net.blocks.4.attn.qkv.weight обучаемый: False\n",
      "Параметр model.net.blocks.4.attn.proj.weight обучаемый: False\n",
      "Параметр model.net.blocks.4.attn.proj.bias обучаемый: False\n",
      "Параметр model.net.blocks.4.mlp.fc1.weight обучаемый: False\n",
      "Параметр model.net.blocks.4.mlp.fc1.bias обучаемый: False\n",
      "Параметр model.net.blocks.4.mlp.fc2.weight обучаемый: False\n",
      "Параметр model.net.blocks.4.mlp.fc2.bias обучаемый: False\n",
      "Параметр model.net.blocks.5.norm1.weight обучаемый: False\n",
      "Параметр model.net.blocks.5.norm1.bias обучаемый: False\n",
      "Параметр model.net.blocks.5.norm2.weight обучаемый: False\n",
      "Параметр model.net.blocks.5.norm2.bias обучаемый: False\n",
      "Параметр model.net.blocks.5.attn.qkv.weight обучаемый: False\n",
      "Параметр model.net.blocks.5.attn.proj.weight обучаемый: False\n",
      "Параметр model.net.blocks.5.attn.proj.bias обучаемый: False\n",
      "Параметр model.net.blocks.5.mlp.fc1.weight обучаемый: False\n",
      "Параметр model.net.blocks.5.mlp.fc1.bias обучаемый: False\n",
      "Параметр model.net.blocks.5.mlp.fc2.weight обучаемый: False\n",
      "Параметр model.net.blocks.5.mlp.fc2.bias обучаемый: False\n",
      "Параметр model.net.blocks.6.norm1.weight обучаемый: False\n",
      "Параметр model.net.blocks.6.norm1.bias обучаемый: False\n",
      "Параметр model.net.blocks.6.norm2.weight обучаемый: False\n",
      "Параметр model.net.blocks.6.norm2.bias обучаемый: False\n",
      "Параметр model.net.blocks.6.attn.qkv.weight обучаемый: False\n",
      "Параметр model.net.blocks.6.attn.proj.weight обучаемый: False\n",
      "Параметр model.net.blocks.6.attn.proj.bias обучаемый: False\n",
      "Параметр model.net.blocks.6.mlp.fc1.weight обучаемый: False\n",
      "Параметр model.net.blocks.6.mlp.fc1.bias обучаемый: False\n",
      "Параметр model.net.blocks.6.mlp.fc2.weight обучаемый: False\n",
      "Параметр model.net.blocks.6.mlp.fc2.bias обучаемый: False\n",
      "Параметр model.net.blocks.7.norm1.weight обучаемый: False\n",
      "Параметр model.net.blocks.7.norm1.bias обучаемый: False\n",
      "Параметр model.net.blocks.7.norm2.weight обучаемый: False\n",
      "Параметр model.net.blocks.7.norm2.bias обучаемый: False\n",
      "Параметр model.net.blocks.7.attn.qkv.weight обучаемый: False\n",
      "Параметр model.net.blocks.7.attn.proj.weight обучаемый: False\n",
      "Параметр model.net.blocks.7.attn.proj.bias обучаемый: False\n",
      "Параметр model.net.blocks.7.mlp.fc1.weight обучаемый: False\n",
      "Параметр model.net.blocks.7.mlp.fc1.bias обучаемый: False\n",
      "Параметр model.net.blocks.7.mlp.fc2.weight обучаемый: False\n",
      "Параметр model.net.blocks.7.mlp.fc2.bias обучаемый: False\n",
      "Параметр model.net.blocks.8.norm1.weight обучаемый: False\n",
      "Параметр model.net.blocks.8.norm1.bias обучаемый: False\n",
      "Параметр model.net.blocks.8.norm2.weight обучаемый: False\n",
      "Параметр model.net.blocks.8.norm2.bias обучаемый: False\n",
      "Параметр model.net.blocks.8.attn.qkv.weight обучаемый: False\n",
      "Параметр model.net.blocks.8.attn.proj.weight обучаемый: False\n",
      "Параметр model.net.blocks.8.attn.proj.bias обучаемый: False\n",
      "Параметр model.net.blocks.8.mlp.fc1.weight обучаемый: False\n",
      "Параметр model.net.blocks.8.mlp.fc1.bias обучаемый: False\n",
      "Параметр model.net.blocks.8.mlp.fc2.weight обучаемый: False\n",
      "Параметр model.net.blocks.8.mlp.fc2.bias обучаемый: False\n",
      "Параметр model.net.blocks.9.norm1.weight обучаемый: False\n",
      "Параметр model.net.blocks.9.norm1.bias обучаемый: False\n",
      "Параметр model.net.blocks.9.norm2.weight обучаемый: False\n",
      "Параметр model.net.blocks.9.norm2.bias обучаемый: False\n",
      "Параметр model.net.blocks.9.attn.qkv.weight обучаемый: False\n",
      "Параметр model.net.blocks.9.attn.proj.weight обучаемый: False\n",
      "Параметр model.net.blocks.9.attn.proj.bias обучаемый: False\n",
      "Параметр model.net.blocks.9.mlp.fc1.weight обучаемый: False\n",
      "Параметр model.net.blocks.9.mlp.fc1.bias обучаемый: False\n",
      "Параметр model.net.blocks.9.mlp.fc2.weight обучаемый: False\n",
      "Параметр model.net.blocks.9.mlp.fc2.bias обучаемый: False\n",
      "Параметр model.net.blocks.10.norm1.weight обучаемый: False\n",
      "Параметр model.net.blocks.10.norm1.bias обучаемый: False\n",
      "Параметр model.net.blocks.10.norm2.weight обучаемый: False\n",
      "Параметр model.net.blocks.10.norm2.bias обучаемый: False\n",
      "Параметр model.net.blocks.10.attn.qkv.weight обучаемый: False\n",
      "Параметр model.net.blocks.10.attn.proj.weight обучаемый: False\n",
      "Параметр model.net.blocks.10.attn.proj.bias обучаемый: False\n",
      "Параметр model.net.blocks.10.mlp.fc1.weight обучаемый: False\n",
      "Параметр model.net.blocks.10.mlp.fc1.bias обучаемый: False\n",
      "Параметр model.net.blocks.10.mlp.fc2.weight обучаемый: False\n",
      "Параметр model.net.blocks.10.mlp.fc2.bias обучаемый: False\n",
      "Параметр model.net.blocks.11.norm1.weight обучаемый: False\n",
      "Параметр model.net.blocks.11.norm1.bias обучаемый: False\n",
      "Параметр model.net.blocks.11.norm2.weight обучаемый: False\n",
      "Параметр model.net.blocks.11.norm2.bias обучаемый: False\n",
      "Параметр model.net.blocks.11.attn.qkv.weight обучаемый: False\n",
      "Параметр model.net.blocks.11.attn.proj.weight обучаемый: False\n",
      "Параметр model.net.blocks.11.attn.proj.bias обучаемый: False\n",
      "Параметр model.net.blocks.11.mlp.fc1.weight обучаемый: False\n",
      "Параметр model.net.blocks.11.mlp.fc1.bias обучаемый: False\n",
      "Параметр model.net.blocks.11.mlp.fc2.weight обучаемый: False\n",
      "Параметр model.net.blocks.11.mlp.fc2.bias обучаемый: False\n",
      "Параметр model.net.blocks.12.norm1.weight обучаемый: False\n",
      "Параметр model.net.blocks.12.norm1.bias обучаемый: False\n",
      "Параметр model.net.blocks.12.norm2.weight обучаемый: False\n",
      "Параметр model.net.blocks.12.norm2.bias обучаемый: False\n",
      "Параметр model.net.blocks.12.attn.qkv.weight обучаемый: False\n",
      "Параметр model.net.blocks.12.attn.proj.weight обучаемый: False\n",
      "Параметр model.net.blocks.12.attn.proj.bias обучаемый: False\n",
      "Параметр model.net.blocks.12.mlp.fc1.weight обучаемый: False\n",
      "Параметр model.net.blocks.12.mlp.fc1.bias обучаемый: False\n",
      "Параметр model.net.blocks.12.mlp.fc2.weight обучаемый: False\n",
      "Параметр model.net.blocks.12.mlp.fc2.bias обучаемый: False\n",
      "Параметр model.net.blocks.13.norm1.weight обучаемый: False\n",
      "Параметр model.net.blocks.13.norm1.bias обучаемый: False\n",
      "Параметр model.net.blocks.13.norm2.weight обучаемый: False\n",
      "Параметр model.net.blocks.13.norm2.bias обучаемый: False\n",
      "Параметр model.net.blocks.13.attn.qkv.weight обучаемый: False\n",
      "Параметр model.net.blocks.13.attn.proj.weight обучаемый: False\n",
      "Параметр model.net.blocks.13.attn.proj.bias обучаемый: False\n",
      "Параметр model.net.blocks.13.mlp.fc1.weight обучаемый: False\n",
      "Параметр model.net.blocks.13.mlp.fc1.bias обучаемый: False\n",
      "Параметр model.net.blocks.13.mlp.fc2.weight обучаемый: False\n",
      "Параметр model.net.blocks.13.mlp.fc2.bias обучаемый: False\n",
      "Параметр model.net.blocks.14.norm1.weight обучаемый: False\n",
      "Параметр model.net.blocks.14.norm1.bias обучаемый: False\n",
      "Параметр model.net.blocks.14.norm2.weight обучаемый: False\n",
      "Параметр model.net.blocks.14.norm2.bias обучаемый: False\n",
      "Параметр model.net.blocks.14.attn.qkv.weight обучаемый: False\n",
      "Параметр model.net.blocks.14.attn.proj.weight обучаемый: False\n",
      "Параметр model.net.blocks.14.attn.proj.bias обучаемый: False\n",
      "Параметр model.net.blocks.14.mlp.fc1.weight обучаемый: False\n",
      "Параметр model.net.blocks.14.mlp.fc1.bias обучаемый: False\n",
      "Параметр model.net.blocks.14.mlp.fc2.weight обучаемый: False\n",
      "Параметр model.net.blocks.14.mlp.fc2.bias обучаемый: False\n",
      "Параметр model.net.blocks.15.norm1.weight обучаемый: False\n",
      "Параметр model.net.blocks.15.norm1.bias обучаемый: False\n",
      "Параметр model.net.blocks.15.norm2.weight обучаемый: False\n",
      "Параметр model.net.blocks.15.norm2.bias обучаемый: False\n",
      "Параметр model.net.blocks.15.attn.qkv.weight обучаемый: False\n",
      "Параметр model.net.blocks.15.attn.proj.weight обучаемый: False\n",
      "Параметр model.net.blocks.15.attn.proj.bias обучаемый: False\n",
      "Параметр model.net.blocks.15.mlp.fc1.weight обучаемый: False\n",
      "Параметр model.net.blocks.15.mlp.fc1.bias обучаемый: False\n",
      "Параметр model.net.blocks.15.mlp.fc2.weight обучаемый: False\n",
      "Параметр model.net.blocks.15.mlp.fc2.bias обучаемый: False\n",
      "Параметр model.net.blocks.16.norm1.weight обучаемый: False\n",
      "Параметр model.net.blocks.16.norm1.bias обучаемый: False\n",
      "Параметр model.net.blocks.16.norm2.weight обучаемый: False\n",
      "Параметр model.net.blocks.16.norm2.bias обучаемый: False\n",
      "Параметр model.net.blocks.16.attn.qkv.weight обучаемый: False\n",
      "Параметр model.net.blocks.16.attn.proj.weight обучаемый: False\n",
      "Параметр model.net.blocks.16.attn.proj.bias обучаемый: False\n",
      "Параметр model.net.blocks.16.mlp.fc1.weight обучаемый: False\n",
      "Параметр model.net.blocks.16.mlp.fc1.bias обучаемый: False\n",
      "Параметр model.net.blocks.16.mlp.fc2.weight обучаемый: False\n",
      "Параметр model.net.blocks.16.mlp.fc2.bias обучаемый: False\n",
      "Параметр model.net.blocks.17.norm1.weight обучаемый: False\n",
      "Параметр model.net.blocks.17.norm1.bias обучаемый: False\n",
      "Параметр model.net.blocks.17.norm2.weight обучаемый: False\n",
      "Параметр model.net.blocks.17.norm2.bias обучаемый: False\n",
      "Параметр model.net.blocks.17.attn.qkv.weight обучаемый: False\n",
      "Параметр model.net.blocks.17.attn.proj.weight обучаемый: False\n",
      "Параметр model.net.blocks.17.attn.proj.bias обучаемый: False\n",
      "Параметр model.net.blocks.17.mlp.fc1.weight обучаемый: False\n",
      "Параметр model.net.blocks.17.mlp.fc1.bias обучаемый: False\n",
      "Параметр model.net.blocks.17.mlp.fc2.weight обучаемый: False\n",
      "Параметр model.net.blocks.17.mlp.fc2.bias обучаемый: False\n",
      "Параметр model.net.blocks.18.norm1.weight обучаемый: False\n",
      "Параметр model.net.blocks.18.norm1.bias обучаемый: False\n",
      "Параметр model.net.blocks.18.norm2.weight обучаемый: False\n",
      "Параметр model.net.blocks.18.norm2.bias обучаемый: False\n",
      "Параметр model.net.blocks.18.attn.qkv.weight обучаемый: False\n",
      "Параметр model.net.blocks.18.attn.proj.weight обучаемый: False\n",
      "Параметр model.net.blocks.18.attn.proj.bias обучаемый: False\n",
      "Параметр model.net.blocks.18.mlp.fc1.weight обучаемый: False\n",
      "Параметр model.net.blocks.18.mlp.fc1.bias обучаемый: False\n",
      "Параметр model.net.blocks.18.mlp.fc2.weight обучаемый: False\n",
      "Параметр model.net.blocks.18.mlp.fc2.bias обучаемый: False\n",
      "Параметр model.net.blocks.19.norm1.weight обучаемый: False\n",
      "Параметр model.net.blocks.19.norm1.bias обучаемый: False\n",
      "Параметр model.net.blocks.19.norm2.weight обучаемый: False\n",
      "Параметр model.net.blocks.19.norm2.bias обучаемый: False\n",
      "Параметр model.net.blocks.19.attn.qkv.weight обучаемый: False\n",
      "Параметр model.net.blocks.19.attn.proj.weight обучаемый: False\n",
      "Параметр model.net.blocks.19.attn.proj.bias обучаемый: False\n",
      "Параметр model.net.blocks.19.mlp.fc1.weight обучаемый: False\n",
      "Параметр model.net.blocks.19.mlp.fc1.bias обучаемый: False\n",
      "Параметр model.net.blocks.19.mlp.fc2.weight обучаемый: False\n",
      "Параметр model.net.blocks.19.mlp.fc2.bias обучаемый: False\n",
      "Параметр model.net.blocks.20.norm1.weight обучаемый: False\n",
      "Параметр model.net.blocks.20.norm1.bias обучаемый: False\n",
      "Параметр model.net.blocks.20.norm2.weight обучаемый: False\n",
      "Параметр model.net.blocks.20.norm2.bias обучаемый: False\n",
      "Параметр model.net.blocks.20.attn.qkv.weight обучаемый: False\n",
      "Параметр model.net.blocks.20.attn.proj.weight обучаемый: False\n",
      "Параметр model.net.blocks.20.attn.proj.bias обучаемый: False\n",
      "Параметр model.net.blocks.20.mlp.fc1.weight обучаемый: False\n",
      "Параметр model.net.blocks.20.mlp.fc1.bias обучаемый: False\n",
      "Параметр model.net.blocks.20.mlp.fc2.weight обучаемый: False\n",
      "Параметр model.net.blocks.20.mlp.fc2.bias обучаемый: False\n",
      "Параметр model.net.blocks.21.norm1.weight обучаемый: False\n",
      "Параметр model.net.blocks.21.norm1.bias обучаемый: False\n",
      "Параметр model.net.blocks.21.norm2.weight обучаемый: False\n",
      "Параметр model.net.blocks.21.norm2.bias обучаемый: False\n",
      "Параметр model.net.blocks.21.attn.qkv.weight обучаемый: False\n",
      "Параметр model.net.blocks.21.attn.proj.weight обучаемый: False\n",
      "Параметр model.net.blocks.21.attn.proj.bias обучаемый: False\n",
      "Параметр model.net.blocks.21.mlp.fc1.weight обучаемый: False\n",
      "Параметр model.net.blocks.21.mlp.fc1.bias обучаемый: False\n",
      "Параметр model.net.blocks.21.mlp.fc2.weight обучаемый: False\n",
      "Параметр model.net.blocks.21.mlp.fc2.bias обучаемый: False\n",
      "Параметр model.net.blocks.22.norm1.weight обучаемый: False\n",
      "Параметр model.net.blocks.22.norm1.bias обучаемый: False\n",
      "Параметр model.net.blocks.22.norm2.weight обучаемый: False\n",
      "Параметр model.net.blocks.22.norm2.bias обучаемый: False\n",
      "Параметр model.net.blocks.22.attn.qkv.weight обучаемый: False\n",
      "Параметр model.net.blocks.22.attn.proj.weight обучаемый: False\n",
      "Параметр model.net.blocks.22.attn.proj.bias обучаемый: False\n",
      "Параметр model.net.blocks.22.mlp.fc1.weight обучаемый: False\n",
      "Параметр model.net.blocks.22.mlp.fc1.bias обучаемый: False\n",
      "Параметр model.net.blocks.22.mlp.fc2.weight обучаемый: False\n",
      "Параметр model.net.blocks.22.mlp.fc2.bias обучаемый: False\n",
      "Параметр model.net.blocks.23.norm1.weight обучаемый: False\n",
      "Параметр model.net.blocks.23.norm1.bias обучаемый: False\n",
      "Параметр model.net.blocks.23.norm2.weight обучаемый: False\n",
      "Параметр model.net.blocks.23.norm2.bias обучаемый: False\n",
      "Параметр model.net.blocks.23.attn.qkv.weight обучаемый: False\n",
      "Параметр model.net.blocks.23.attn.proj.weight обучаемый: False\n",
      "Параметр model.net.blocks.23.attn.proj.bias обучаемый: False\n",
      "Параметр model.net.blocks.23.mlp.fc1.weight обучаемый: False\n",
      "Параметр model.net.blocks.23.mlp.fc1.bias обучаемый: False\n",
      "Параметр model.net.blocks.23.mlp.fc2.weight обучаемый: False\n",
      "Параметр model.net.blocks.23.mlp.fc2.bias обучаемый: False\n",
      "Параметр model.net.norm.weight обучаемый: False\n",
      "Параметр model.net.norm.bias обучаемый: False\n",
      "Параметр model.net.feature.0.weight обучаемый: True\n",
      "Параметр model.net.feature.1.weight обучаемый: False\n",
      "Параметр model.net.feature.1.bias обучаемый: False\n",
      "Параметр model.net.feature.2.weight обучаемый: True\n",
      "Параметр model.net.feature.3.weight обучаемый: False\n",
      "Параметр model.net.feature.3.bias обучаемый: False\n"
     ]
    }
   ],
   "source": [
    "\n",
    "for param in model.parameters():\n",
    "    param.requires_grad = False\n",
    "\n",
    "for layer in model.model.net.feature:\n",
    "    if isinstance(layer, torch.nn.BatchNorm1d):\n",
    "        for param in layer.parameters():\n",
    "            param.requires_grad = False  # Замораживаем параметры\n",
    "\n",
    "# Размораживаем Linear\n",
    "for layer in model.model.net.feature:\n",
    "    if isinstance(layer, torch.nn.Linear):\n",
    "        for param in layer.parameters():\n",
    "            param.requires_grad = True  \n",
    "\n",
    "\n",
    "\n",
    "for name, param in model.named_parameters():\n",
    "    print(f\"Параметр {name} обучаемый: {param.requires_grad}\")"
   ]
  },
  {
   "cell_type": "code",
   "execution_count": 77,
   "metadata": {
    "execution": {
     "iopub.execute_input": "2025-03-07T14:28:54.470805Z",
     "iopub.status.busy": "2025-03-07T14:28:54.470466Z",
     "iopub.status.idle": "2025-03-07T14:28:54.479130Z",
     "shell.execute_reply": "2025-03-07T14:28:54.478267Z",
     "shell.execute_reply.started": "2025-03-07T14:28:54.470777Z"
    },
    "trusted": true
   },
   "outputs": [
    {
     "data": {
      "text/plain": [
       "CVLFaceRecognitionModel(\n",
       "  (model): ViTModel(\n",
       "    (net): VisionTransformer(\n",
       "      (patch_embed): PatchEmbed(\n",
       "        (proj): Conv2d(3, 512, kernel_size=(8, 8), stride=(8, 8))\n",
       "      )\n",
       "      (pos_drop): Dropout(p=0.0, inplace=False)\n",
       "      (blocks): ModuleList(\n",
       "        (0): Block(\n",
       "          (norm1): LayerNorm((512,), eps=1e-05, elementwise_affine=True)\n",
       "          (norm2): LayerNorm((512,), eps=1e-05, elementwise_affine=True)\n",
       "          (attn): Attention(\n",
       "            (qkv): Linear(in_features=512, out_features=1536, bias=False)\n",
       "            (attn_drop): Dropout(p=0.0, inplace=False)\n",
       "            (proj): Linear(in_features=512, out_features=512, bias=True)\n",
       "            (proj_drop): Dropout(p=0.0, inplace=False)\n",
       "          )\n",
       "          (drop_path): Identity()\n",
       "          (mlp): Mlp(\n",
       "            (fc1): Linear(in_features=512, out_features=1536, bias=True)\n",
       "            (act): ReLU6()\n",
       "            (fc2): Linear(in_features=1536, out_features=512, bias=True)\n",
       "            (drop): Dropout(p=0.0, inplace=False)\n",
       "          )\n",
       "        )\n",
       "        (1): Block(\n",
       "          (norm1): LayerNorm((512,), eps=1e-05, elementwise_affine=True)\n",
       "          (norm2): LayerNorm((512,), eps=1e-05, elementwise_affine=True)\n",
       "          (attn): Attention(\n",
       "            (qkv): Linear(in_features=512, out_features=1536, bias=False)\n",
       "            (attn_drop): Dropout(p=0.0, inplace=False)\n",
       "            (proj): Linear(in_features=512, out_features=512, bias=True)\n",
       "            (proj_drop): Dropout(p=0.0, inplace=False)\n",
       "          )\n",
       "          (drop_path): DropPath(drop_prob=0.004)\n",
       "          (mlp): Mlp(\n",
       "            (fc1): Linear(in_features=512, out_features=1536, bias=True)\n",
       "            (act): ReLU6()\n",
       "            (fc2): Linear(in_features=1536, out_features=512, bias=True)\n",
       "            (drop): Dropout(p=0.0, inplace=False)\n",
       "          )\n",
       "        )\n",
       "        (2): Block(\n",
       "          (norm1): LayerNorm((512,), eps=1e-05, elementwise_affine=True)\n",
       "          (norm2): LayerNorm((512,), eps=1e-05, elementwise_affine=True)\n",
       "          (attn): Attention(\n",
       "            (qkv): Linear(in_features=512, out_features=1536, bias=False)\n",
       "            (attn_drop): Dropout(p=0.0, inplace=False)\n",
       "            (proj): Linear(in_features=512, out_features=512, bias=True)\n",
       "            (proj_drop): Dropout(p=0.0, inplace=False)\n",
       "          )\n",
       "          (drop_path): DropPath(drop_prob=0.009)\n",
       "          (mlp): Mlp(\n",
       "            (fc1): Linear(in_features=512, out_features=1536, bias=True)\n",
       "            (act): ReLU6()\n",
       "            (fc2): Linear(in_features=1536, out_features=512, bias=True)\n",
       "            (drop): Dropout(p=0.0, inplace=False)\n",
       "          )\n",
       "        )\n",
       "        (3): Block(\n",
       "          (norm1): LayerNorm((512,), eps=1e-05, elementwise_affine=True)\n",
       "          (norm2): LayerNorm((512,), eps=1e-05, elementwise_affine=True)\n",
       "          (attn): Attention(\n",
       "            (qkv): Linear(in_features=512, out_features=1536, bias=False)\n",
       "            (attn_drop): Dropout(p=0.0, inplace=False)\n",
       "            (proj): Linear(in_features=512, out_features=512, bias=True)\n",
       "            (proj_drop): Dropout(p=0.0, inplace=False)\n",
       "          )\n",
       "          (drop_path): DropPath(drop_prob=0.013)\n",
       "          (mlp): Mlp(\n",
       "            (fc1): Linear(in_features=512, out_features=1536, bias=True)\n",
       "            (act): ReLU6()\n",
       "            (fc2): Linear(in_features=1536, out_features=512, bias=True)\n",
       "            (drop): Dropout(p=0.0, inplace=False)\n",
       "          )\n",
       "        )\n",
       "        (4): Block(\n",
       "          (norm1): LayerNorm((512,), eps=1e-05, elementwise_affine=True)\n",
       "          (norm2): LayerNorm((512,), eps=1e-05, elementwise_affine=True)\n",
       "          (attn): Attention(\n",
       "            (qkv): Linear(in_features=512, out_features=1536, bias=False)\n",
       "            (attn_drop): Dropout(p=0.0, inplace=False)\n",
       "            (proj): Linear(in_features=512, out_features=512, bias=True)\n",
       "            (proj_drop): Dropout(p=0.0, inplace=False)\n",
       "          )\n",
       "          (drop_path): DropPath(drop_prob=0.017)\n",
       "          (mlp): Mlp(\n",
       "            (fc1): Linear(in_features=512, out_features=1536, bias=True)\n",
       "            (act): ReLU6()\n",
       "            (fc2): Linear(in_features=1536, out_features=512, bias=True)\n",
       "            (drop): Dropout(p=0.0, inplace=False)\n",
       "          )\n",
       "        )\n",
       "        (5): Block(\n",
       "          (norm1): LayerNorm((512,), eps=1e-05, elementwise_affine=True)\n",
       "          (norm2): LayerNorm((512,), eps=1e-05, elementwise_affine=True)\n",
       "          (attn): Attention(\n",
       "            (qkv): Linear(in_features=512, out_features=1536, bias=False)\n",
       "            (attn_drop): Dropout(p=0.0, inplace=False)\n",
       "            (proj): Linear(in_features=512, out_features=512, bias=True)\n",
       "            (proj_drop): Dropout(p=0.0, inplace=False)\n",
       "          )\n",
       "          (drop_path): DropPath(drop_prob=0.022)\n",
       "          (mlp): Mlp(\n",
       "            (fc1): Linear(in_features=512, out_features=1536, bias=True)\n",
       "            (act): ReLU6()\n",
       "            (fc2): Linear(in_features=1536, out_features=512, bias=True)\n",
       "            (drop): Dropout(p=0.0, inplace=False)\n",
       "          )\n",
       "        )\n",
       "        (6): Block(\n",
       "          (norm1): LayerNorm((512,), eps=1e-05, elementwise_affine=True)\n",
       "          (norm2): LayerNorm((512,), eps=1e-05, elementwise_affine=True)\n",
       "          (attn): Attention(\n",
       "            (qkv): Linear(in_features=512, out_features=1536, bias=False)\n",
       "            (attn_drop): Dropout(p=0.0, inplace=False)\n",
       "            (proj): Linear(in_features=512, out_features=512, bias=True)\n",
       "            (proj_drop): Dropout(p=0.0, inplace=False)\n",
       "          )\n",
       "          (drop_path): DropPath(drop_prob=0.026)\n",
       "          (mlp): Mlp(\n",
       "            (fc1): Linear(in_features=512, out_features=1536, bias=True)\n",
       "            (act): ReLU6()\n",
       "            (fc2): Linear(in_features=1536, out_features=512, bias=True)\n",
       "            (drop): Dropout(p=0.0, inplace=False)\n",
       "          )\n",
       "        )\n",
       "        (7): Block(\n",
       "          (norm1): LayerNorm((512,), eps=1e-05, elementwise_affine=True)\n",
       "          (norm2): LayerNorm((512,), eps=1e-05, elementwise_affine=True)\n",
       "          (attn): Attention(\n",
       "            (qkv): Linear(in_features=512, out_features=1536, bias=False)\n",
       "            (attn_drop): Dropout(p=0.0, inplace=False)\n",
       "            (proj): Linear(in_features=512, out_features=512, bias=True)\n",
       "            (proj_drop): Dropout(p=0.0, inplace=False)\n",
       "          )\n",
       "          (drop_path): DropPath(drop_prob=0.030)\n",
       "          (mlp): Mlp(\n",
       "            (fc1): Linear(in_features=512, out_features=1536, bias=True)\n",
       "            (act): ReLU6()\n",
       "            (fc2): Linear(in_features=1536, out_features=512, bias=True)\n",
       "            (drop): Dropout(p=0.0, inplace=False)\n",
       "          )\n",
       "        )\n",
       "        (8): Block(\n",
       "          (norm1): LayerNorm((512,), eps=1e-05, elementwise_affine=True)\n",
       "          (norm2): LayerNorm((512,), eps=1e-05, elementwise_affine=True)\n",
       "          (attn): Attention(\n",
       "            (qkv): Linear(in_features=512, out_features=1536, bias=False)\n",
       "            (attn_drop): Dropout(p=0.0, inplace=False)\n",
       "            (proj): Linear(in_features=512, out_features=512, bias=True)\n",
       "            (proj_drop): Dropout(p=0.0, inplace=False)\n",
       "          )\n",
       "          (drop_path): DropPath(drop_prob=0.035)\n",
       "          (mlp): Mlp(\n",
       "            (fc1): Linear(in_features=512, out_features=1536, bias=True)\n",
       "            (act): ReLU6()\n",
       "            (fc2): Linear(in_features=1536, out_features=512, bias=True)\n",
       "            (drop): Dropout(p=0.0, inplace=False)\n",
       "          )\n",
       "        )\n",
       "        (9): Block(\n",
       "          (norm1): LayerNorm((512,), eps=1e-05, elementwise_affine=True)\n",
       "          (norm2): LayerNorm((512,), eps=1e-05, elementwise_affine=True)\n",
       "          (attn): Attention(\n",
       "            (qkv): Linear(in_features=512, out_features=1536, bias=False)\n",
       "            (attn_drop): Dropout(p=0.0, inplace=False)\n",
       "            (proj): Linear(in_features=512, out_features=512, bias=True)\n",
       "            (proj_drop): Dropout(p=0.0, inplace=False)\n",
       "          )\n",
       "          (drop_path): DropPath(drop_prob=0.039)\n",
       "          (mlp): Mlp(\n",
       "            (fc1): Linear(in_features=512, out_features=1536, bias=True)\n",
       "            (act): ReLU6()\n",
       "            (fc2): Linear(in_features=1536, out_features=512, bias=True)\n",
       "            (drop): Dropout(p=0.0, inplace=False)\n",
       "          )\n",
       "        )\n",
       "        (10): Block(\n",
       "          (norm1): LayerNorm((512,), eps=1e-05, elementwise_affine=True)\n",
       "          (norm2): LayerNorm((512,), eps=1e-05, elementwise_affine=True)\n",
       "          (attn): Attention(\n",
       "            (qkv): Linear(in_features=512, out_features=1536, bias=False)\n",
       "            (attn_drop): Dropout(p=0.0, inplace=False)\n",
       "            (proj): Linear(in_features=512, out_features=512, bias=True)\n",
       "            (proj_drop): Dropout(p=0.0, inplace=False)\n",
       "          )\n",
       "          (drop_path): DropPath(drop_prob=0.043)\n",
       "          (mlp): Mlp(\n",
       "            (fc1): Linear(in_features=512, out_features=1536, bias=True)\n",
       "            (act): ReLU6()\n",
       "            (fc2): Linear(in_features=1536, out_features=512, bias=True)\n",
       "            (drop): Dropout(p=0.0, inplace=False)\n",
       "          )\n",
       "        )\n",
       "        (11): Block(\n",
       "          (norm1): LayerNorm((512,), eps=1e-05, elementwise_affine=True)\n",
       "          (norm2): LayerNorm((512,), eps=1e-05, elementwise_affine=True)\n",
       "          (attn): Attention(\n",
       "            (qkv): Linear(in_features=512, out_features=1536, bias=False)\n",
       "            (attn_drop): Dropout(p=0.0, inplace=False)\n",
       "            (proj): Linear(in_features=512, out_features=512, bias=True)\n",
       "            (proj_drop): Dropout(p=0.0, inplace=False)\n",
       "          )\n",
       "          (drop_path): DropPath(drop_prob=0.048)\n",
       "          (mlp): Mlp(\n",
       "            (fc1): Linear(in_features=512, out_features=1536, bias=True)\n",
       "            (act): ReLU6()\n",
       "            (fc2): Linear(in_features=1536, out_features=512, bias=True)\n",
       "            (drop): Dropout(p=0.0, inplace=False)\n",
       "          )\n",
       "        )\n",
       "        (12): Block(\n",
       "          (norm1): LayerNorm((512,), eps=1e-05, elementwise_affine=True)\n",
       "          (norm2): LayerNorm((512,), eps=1e-05, elementwise_affine=True)\n",
       "          (attn): Attention(\n",
       "            (qkv): Linear(in_features=512, out_features=1536, bias=False)\n",
       "            (attn_drop): Dropout(p=0.0, inplace=False)\n",
       "            (proj): Linear(in_features=512, out_features=512, bias=True)\n",
       "            (proj_drop): Dropout(p=0.0, inplace=False)\n",
       "          )\n",
       "          (drop_path): DropPath(drop_prob=0.052)\n",
       "          (mlp): Mlp(\n",
       "            (fc1): Linear(in_features=512, out_features=1536, bias=True)\n",
       "            (act): ReLU6()\n",
       "            (fc2): Linear(in_features=1536, out_features=512, bias=True)\n",
       "            (drop): Dropout(p=0.0, inplace=False)\n",
       "          )\n",
       "        )\n",
       "        (13): Block(\n",
       "          (norm1): LayerNorm((512,), eps=1e-05, elementwise_affine=True)\n",
       "          (norm2): LayerNorm((512,), eps=1e-05, elementwise_affine=True)\n",
       "          (attn): Attention(\n",
       "            (qkv): Linear(in_features=512, out_features=1536, bias=False)\n",
       "            (attn_drop): Dropout(p=0.0, inplace=False)\n",
       "            (proj): Linear(in_features=512, out_features=512, bias=True)\n",
       "            (proj_drop): Dropout(p=0.0, inplace=False)\n",
       "          )\n",
       "          (drop_path): DropPath(drop_prob=0.057)\n",
       "          (mlp): Mlp(\n",
       "            (fc1): Linear(in_features=512, out_features=1536, bias=True)\n",
       "            (act): ReLU6()\n",
       "            (fc2): Linear(in_features=1536, out_features=512, bias=True)\n",
       "            (drop): Dropout(p=0.0, inplace=False)\n",
       "          )\n",
       "        )\n",
       "        (14): Block(\n",
       "          (norm1): LayerNorm((512,), eps=1e-05, elementwise_affine=True)\n",
       "          (norm2): LayerNorm((512,), eps=1e-05, elementwise_affine=True)\n",
       "          (attn): Attention(\n",
       "            (qkv): Linear(in_features=512, out_features=1536, bias=False)\n",
       "            (attn_drop): Dropout(p=0.0, inplace=False)\n",
       "            (proj): Linear(in_features=512, out_features=512, bias=True)\n",
       "            (proj_drop): Dropout(p=0.0, inplace=False)\n",
       "          )\n",
       "          (drop_path): DropPath(drop_prob=0.061)\n",
       "          (mlp): Mlp(\n",
       "            (fc1): Linear(in_features=512, out_features=1536, bias=True)\n",
       "            (act): ReLU6()\n",
       "            (fc2): Linear(in_features=1536, out_features=512, bias=True)\n",
       "            (drop): Dropout(p=0.0, inplace=False)\n",
       "          )\n",
       "        )\n",
       "        (15): Block(\n",
       "          (norm1): LayerNorm((512,), eps=1e-05, elementwise_affine=True)\n",
       "          (norm2): LayerNorm((512,), eps=1e-05, elementwise_affine=True)\n",
       "          (attn): Attention(\n",
       "            (qkv): Linear(in_features=512, out_features=1536, bias=False)\n",
       "            (attn_drop): Dropout(p=0.0, inplace=False)\n",
       "            (proj): Linear(in_features=512, out_features=512, bias=True)\n",
       "            (proj_drop): Dropout(p=0.0, inplace=False)\n",
       "          )\n",
       "          (drop_path): DropPath(drop_prob=0.065)\n",
       "          (mlp): Mlp(\n",
       "            (fc1): Linear(in_features=512, out_features=1536, bias=True)\n",
       "            (act): ReLU6()\n",
       "            (fc2): Linear(in_features=1536, out_features=512, bias=True)\n",
       "            (drop): Dropout(p=0.0, inplace=False)\n",
       "          )\n",
       "        )\n",
       "        (16): Block(\n",
       "          (norm1): LayerNorm((512,), eps=1e-05, elementwise_affine=True)\n",
       "          (norm2): LayerNorm((512,), eps=1e-05, elementwise_affine=True)\n",
       "          (attn): Attention(\n",
       "            (qkv): Linear(in_features=512, out_features=1536, bias=False)\n",
       "            (attn_drop): Dropout(p=0.0, inplace=False)\n",
       "            (proj): Linear(in_features=512, out_features=512, bias=True)\n",
       "            (proj_drop): Dropout(p=0.0, inplace=False)\n",
       "          )\n",
       "          (drop_path): DropPath(drop_prob=0.070)\n",
       "          (mlp): Mlp(\n",
       "            (fc1): Linear(in_features=512, out_features=1536, bias=True)\n",
       "            (act): ReLU6()\n",
       "            (fc2): Linear(in_features=1536, out_features=512, bias=True)\n",
       "            (drop): Dropout(p=0.0, inplace=False)\n",
       "          )\n",
       "        )\n",
       "        (17): Block(\n",
       "          (norm1): LayerNorm((512,), eps=1e-05, elementwise_affine=True)\n",
       "          (norm2): LayerNorm((512,), eps=1e-05, elementwise_affine=True)\n",
       "          (attn): Attention(\n",
       "            (qkv): Linear(in_features=512, out_features=1536, bias=False)\n",
       "            (attn_drop): Dropout(p=0.0, inplace=False)\n",
       "            (proj): Linear(in_features=512, out_features=512, bias=True)\n",
       "            (proj_drop): Dropout(p=0.0, inplace=False)\n",
       "          )\n",
       "          (drop_path): DropPath(drop_prob=0.074)\n",
       "          (mlp): Mlp(\n",
       "            (fc1): Linear(in_features=512, out_features=1536, bias=True)\n",
       "            (act): ReLU6()\n",
       "            (fc2): Linear(in_features=1536, out_features=512, bias=True)\n",
       "            (drop): Dropout(p=0.0, inplace=False)\n",
       "          )\n",
       "        )\n",
       "        (18): Block(\n",
       "          (norm1): LayerNorm((512,), eps=1e-05, elementwise_affine=True)\n",
       "          (norm2): LayerNorm((512,), eps=1e-05, elementwise_affine=True)\n",
       "          (attn): Attention(\n",
       "            (qkv): Linear(in_features=512, out_features=1536, bias=False)\n",
       "            (attn_drop): Dropout(p=0.0, inplace=False)\n",
       "            (proj): Linear(in_features=512, out_features=512, bias=True)\n",
       "            (proj_drop): Dropout(p=0.0, inplace=False)\n",
       "          )\n",
       "          (drop_path): DropPath(drop_prob=0.078)\n",
       "          (mlp): Mlp(\n",
       "            (fc1): Linear(in_features=512, out_features=1536, bias=True)\n",
       "            (act): ReLU6()\n",
       "            (fc2): Linear(in_features=1536, out_features=512, bias=True)\n",
       "            (drop): Dropout(p=0.0, inplace=False)\n",
       "          )\n",
       "        )\n",
       "        (19): Block(\n",
       "          (norm1): LayerNorm((512,), eps=1e-05, elementwise_affine=True)\n",
       "          (norm2): LayerNorm((512,), eps=1e-05, elementwise_affine=True)\n",
       "          (attn): Attention(\n",
       "            (qkv): Linear(in_features=512, out_features=1536, bias=False)\n",
       "            (attn_drop): Dropout(p=0.0, inplace=False)\n",
       "            (proj): Linear(in_features=512, out_features=512, bias=True)\n",
       "            (proj_drop): Dropout(p=0.0, inplace=False)\n",
       "          )\n",
       "          (drop_path): DropPath(drop_prob=0.083)\n",
       "          (mlp): Mlp(\n",
       "            (fc1): Linear(in_features=512, out_features=1536, bias=True)\n",
       "            (act): ReLU6()\n",
       "            (fc2): Linear(in_features=1536, out_features=512, bias=True)\n",
       "            (drop): Dropout(p=0.0, inplace=False)\n",
       "          )\n",
       "        )\n",
       "        (20): Block(\n",
       "          (norm1): LayerNorm((512,), eps=1e-05, elementwise_affine=True)\n",
       "          (norm2): LayerNorm((512,), eps=1e-05, elementwise_affine=True)\n",
       "          (attn): Attention(\n",
       "            (qkv): Linear(in_features=512, out_features=1536, bias=False)\n",
       "            (attn_drop): Dropout(p=0.0, inplace=False)\n",
       "            (proj): Linear(in_features=512, out_features=512, bias=True)\n",
       "            (proj_drop): Dropout(p=0.0, inplace=False)\n",
       "          )\n",
       "          (drop_path): DropPath(drop_prob=0.087)\n",
       "          (mlp): Mlp(\n",
       "            (fc1): Linear(in_features=512, out_features=1536, bias=True)\n",
       "            (act): ReLU6()\n",
       "            (fc2): Linear(in_features=1536, out_features=512, bias=True)\n",
       "            (drop): Dropout(p=0.0, inplace=False)\n",
       "          )\n",
       "        )\n",
       "        (21): Block(\n",
       "          (norm1): LayerNorm((512,), eps=1e-05, elementwise_affine=True)\n",
       "          (norm2): LayerNorm((512,), eps=1e-05, elementwise_affine=True)\n",
       "          (attn): Attention(\n",
       "            (qkv): Linear(in_features=512, out_features=1536, bias=False)\n",
       "            (attn_drop): Dropout(p=0.0, inplace=False)\n",
       "            (proj): Linear(in_features=512, out_features=512, bias=True)\n",
       "            (proj_drop): Dropout(p=0.0, inplace=False)\n",
       "          )\n",
       "          (drop_path): DropPath(drop_prob=0.091)\n",
       "          (mlp): Mlp(\n",
       "            (fc1): Linear(in_features=512, out_features=1536, bias=True)\n",
       "            (act): ReLU6()\n",
       "            (fc2): Linear(in_features=1536, out_features=512, bias=True)\n",
       "            (drop): Dropout(p=0.0, inplace=False)\n",
       "          )\n",
       "        )\n",
       "        (22): Block(\n",
       "          (norm1): LayerNorm((512,), eps=1e-05, elementwise_affine=True)\n",
       "          (norm2): LayerNorm((512,), eps=1e-05, elementwise_affine=True)\n",
       "          (attn): Attention(\n",
       "            (qkv): Linear(in_features=512, out_features=1536, bias=False)\n",
       "            (attn_drop): Dropout(p=0.0, inplace=False)\n",
       "            (proj): Linear(in_features=512, out_features=512, bias=True)\n",
       "            (proj_drop): Dropout(p=0.0, inplace=False)\n",
       "          )\n",
       "          (drop_path): DropPath(drop_prob=0.096)\n",
       "          (mlp): Mlp(\n",
       "            (fc1): Linear(in_features=512, out_features=1536, bias=True)\n",
       "            (act): ReLU6()\n",
       "            (fc2): Linear(in_features=1536, out_features=512, bias=True)\n",
       "            (drop): Dropout(p=0.0, inplace=False)\n",
       "          )\n",
       "        )\n",
       "        (23): Block(\n",
       "          (norm1): LayerNorm((512,), eps=1e-05, elementwise_affine=True)\n",
       "          (norm2): LayerNorm((512,), eps=1e-05, elementwise_affine=True)\n",
       "          (attn): Attention(\n",
       "            (qkv): Linear(in_features=512, out_features=1536, bias=False)\n",
       "            (attn_drop): Dropout(p=0.0, inplace=False)\n",
       "            (proj): Linear(in_features=512, out_features=512, bias=True)\n",
       "            (proj_drop): Dropout(p=0.0, inplace=False)\n",
       "          )\n",
       "          (drop_path): DropPath(drop_prob=0.100)\n",
       "          (mlp): Mlp(\n",
       "            (fc1): Linear(in_features=512, out_features=1536, bias=True)\n",
       "            (act): ReLU6()\n",
       "            (fc2): Linear(in_features=1536, out_features=512, bias=True)\n",
       "            (drop): Dropout(p=0.0, inplace=False)\n",
       "          )\n",
       "        )\n",
       "      )\n",
       "      (norm): LayerNorm((512,), eps=1e-05, elementwise_affine=True)\n",
       "      (feature): Sequential(\n",
       "        (0): Linear(in_features=100352, out_features=512, bias=False)\n",
       "        (1): BatchNorm1d(512, eps=2e-05, momentum=0.1, affine=True, track_running_stats=True)\n",
       "        (2): Linear(in_features=512, out_features=512, bias=False)\n",
       "        (3): BatchNorm1d(512, eps=2e-05, momentum=0.1, affine=True, track_running_stats=True)\n",
       "      )\n",
       "    )\n",
       "  )\n",
       ")"
      ]
     },
     "execution_count": 77,
     "metadata": {},
     "output_type": "execute_result"
    }
   ],
   "source": [
    "model"
   ]
  },
  {
   "cell_type": "markdown",
   "metadata": {},
   "source": [
    "Обучение"
   ]
  },
  {
   "cell_type": "code",
   "execution_count": 14,
   "metadata": {
    "execution": {
     "iopub.execute_input": "2025-03-07T15:47:11.233297Z",
     "iopub.status.busy": "2025-03-07T15:47:11.232951Z",
     "iopub.status.idle": "2025-03-07T15:47:11.238152Z",
     "shell.execute_reply": "2025-03-07T15:47:11.237167Z",
     "shell.execute_reply.started": "2025-03-07T15:47:11.233272Z"
    },
    "trusted": true
   },
   "outputs": [
    {
     "name": "stdout",
     "output_type": "stream",
     "text": [
      "Model device: cpu\n"
     ]
    }
   ],
   "source": [
    "print(f\"Model device: {next(model.parameters()).device}\")"
   ]
  },
  {
   "cell_type": "code",
   "execution_count": 15,
   "metadata": {
    "execution": {
     "iopub.execute_input": "2025-03-07T15:47:13.707688Z",
     "iopub.status.busy": "2025-03-07T15:47:13.707227Z",
     "iopub.status.idle": "2025-03-07T15:47:13.721738Z",
     "shell.execute_reply": "2025-03-07T15:47:13.720597Z",
     "shell.execute_reply.started": "2025-03-07T15:47:13.707641Z"
    },
    "trusted": true
   },
   "outputs": [],
   "source": [
    "import torch\n",
    "from tqdm import tqdm\n",
    "from torch.nn import DataParallel\n",
    "\n",
    "def train(model, optimizer, criterion, epochs, train_dataloader, test_dataloader):\n",
    "    summary_loss_train = []\n",
    "    summary_loss_test = []\n",
    "    \n",
    "    # Определяем устройство (GPU или CPU)\n",
    "    device = torch.device(\"cuda\" if torch.cuda.is_available() else \"cpu\")\n",
    "    \n",
    "    # Перемещаем модель на GPU перед обертыванием в DataParallel\n",
    "    model.to(device)\n",
    "    \n",
    "    # Обертываем модель в DataParallel для использования нескольких GPU\n",
    "    if torch.cuda.device_count() > 1:\n",
    "        print(f\"Using {torch.cuda.device_count()} GPUs!\")\n",
    "        model = DataParallel(model)\n",
    "    \n",
    "    for epoch in tqdm(range(epochs), desc=\"Epochs\", ncols=100):\n",
    "        train_loss = 0\n",
    "        train_norm_variable = 0\n",
    "        model.train()\n",
    "        \n",
    "        for image0, image1, label in train_dataloader:\n",
    "            # Перемещаем данные на GPU\n",
    "            image0 = image0.to(device)\n",
    "            image1 = image1.to(device)\n",
    "            label = label.to(device)\n",
    "            \n",
    "            optimizer.zero_grad()\n",
    "            \n",
    "            embed0 = model(image0)\n",
    "            embed1 = model(image1)\n",
    "            \n",
    "            loss = criterion(embed0, embed1, label)\n",
    "            summary_loss_train.append(loss.item())\n",
    "            train_loss += loss.item() * image0.size(0)\n",
    "            train_norm_variable += image0.size(0)\n",
    "            \n",
    "            loss.backward()\n",
    "            optimizer.step()\n",
    "        \n",
    "        print(f'Train loss: {train_loss/train_norm_variable}')\n",
    "        \n",
    "        # Сохраняем веса модели\n",
    "        torch.save(model.module.state_dict() if isinstance(model, DataParallel) else model.state_dict(), \n",
    "                   f'/kaggle/working/model_weights_epoch_{epoch + 1}.pth')\n",
    "        print(f\"Weights saved for epoch {epoch + 1}\")\n",
    "        \n",
    "        test_loss = 0\n",
    "        test_norm_variable = 0\n",
    "        model.eval()\n",
    "        \n",
    "        with torch.no_grad():\n",
    "            for image0, image1, label in test_dataloader:\n",
    "                # Перемещаем данные на GPU\n",
    "                image0 = image0.to(device)\n",
    "                image1 = image1.to(device)\n",
    "                label = label.to(device)\n",
    "                \n",
    "                embed0 = model(image0)\n",
    "                embed1 = model(image1)\n",
    "                \n",
    "                loss = criterion(embed0, embed1, label)\n",
    "                summary_loss_test.append(loss.item())\n",
    "                \n",
    "                test_loss += loss.item() * image0.size(0)\n",
    "                test_norm_variable += image0.size(0)\n",
    "        \n",
    "        print(f'Test loss: {test_loss/test_norm_variable}')\n",
    "        print()"
   ]
  },
  {
   "cell_type": "code",
   "execution_count": 16,
   "metadata": {
    "execution": {
     "iopub.execute_input": "2025-03-07T15:47:18.257999Z",
     "iopub.status.busy": "2025-03-07T15:47:18.257634Z",
     "iopub.status.idle": "2025-03-07T15:47:18.263982Z",
     "shell.execute_reply": "2025-03-07T15:47:18.262890Z",
     "shell.execute_reply.started": "2025-03-07T15:47:18.257972Z"
    },
    "trusted": true
   },
   "outputs": [],
   "source": [
    "import torch.optim as optim\n",
    "import torch.nn as nn\n",
    "\n",
    "optimizer = optim.Adam(model.parameters(), lr=3e-3)\n",
    "criterion = nn.CosineEmbeddingLoss()\n"
   ]
  },
  {
   "cell_type": "code",
   "execution_count": 17,
   "metadata": {
    "execution": {
     "iopub.execute_input": "2025-03-07T15:47:20.271268Z",
     "iopub.status.busy": "2025-03-07T15:47:20.270942Z",
     "iopub.status.idle": "2025-03-07T16:41:33.227587Z",
     "shell.execute_reply": "2025-03-07T16:41:33.226438Z",
     "shell.execute_reply.started": "2025-03-07T15:47:20.271241Z"
    },
    "trusted": true
   },
   "outputs": [
    {
     "name": "stdout",
     "output_type": "stream",
     "text": [
      "Using 2 GPUs!\n"
     ]
    },
    {
     "name": "stderr",
     "output_type": "stream",
     "text": [
      "Epochs:   0%|                                                                | 0/15 [00:00<?, ?it/s]"
     ]
    },
    {
     "name": "stdout",
     "output_type": "stream",
     "text": [
      "Train loss: 0.21841484558582305\n",
      "Weights saved for epoch 1\n"
     ]
    },
    {
     "name": "stderr",
     "output_type": "stream",
     "text": [
      "Epochs:   7%|███▌                                                 | 1/15 [04:47<1:07:08, 287.73s/it]"
     ]
    },
    {
     "name": "stdout",
     "output_type": "stream",
     "text": [
      "Test loss: 0.13680170583724977\n",
      "\n",
      "Train loss: 0.12443526046805911\n",
      "Weights saved for epoch 2\n"
     ]
    },
    {
     "name": "stderr",
     "output_type": "stream",
     "text": [
      "Epochs:  13%|███████                                              | 2/15 [09:42<1:03:17, 292.13s/it]"
     ]
    },
    {
     "name": "stdout",
     "output_type": "stream",
     "text": [
      "Test loss: 0.10695927393436432\n",
      "\n",
      "Train loss: 0.09701503567563163\n",
      "Weights saved for epoch 3\n"
     ]
    },
    {
     "name": "stderr",
     "output_type": "stream",
     "text": [
      "Epochs:  20%|███████████                                            | 3/15 [14:38<58:44, 293.70s/it]"
     ]
    },
    {
     "name": "stdout",
     "output_type": "stream",
     "text": [
      "Test loss: 0.102434654712677\n",
      "\n",
      "Train loss: 0.07999956868754493\n",
      "Weights saved for epoch 4\n"
     ]
    },
    {
     "name": "stderr",
     "output_type": "stream",
     "text": [
      "Epochs:  27%|██████████████▋                                        | 4/15 [19:33<53:57, 294.27s/it]"
     ]
    },
    {
     "name": "stdout",
     "output_type": "stream",
     "text": [
      "Test loss: 0.09440683972835541\n",
      "\n",
      "Train loss: 0.06863932859566477\n",
      "Weights saved for epoch 5\n"
     ]
    },
    {
     "name": "stderr",
     "output_type": "stream",
     "text": [
      "Epochs:  33%|██████████████████▎                                    | 5/15 [24:28<49:05, 294.56s/it]"
     ]
    },
    {
     "name": "stdout",
     "output_type": "stream",
     "text": [
      "Test loss: 0.08984186565876007\n",
      "\n",
      "Train loss: 0.06058636443482505\n",
      "Weights saved for epoch 6\n"
     ]
    },
    {
     "name": "stderr",
     "output_type": "stream",
     "text": [
      "Epochs:  40%|██████████████████████                                 | 6/15 [29:23<44:13, 294.80s/it]"
     ]
    },
    {
     "name": "stdout",
     "output_type": "stream",
     "text": [
      "Test loss: 0.08600948959589004\n",
      "\n",
      "Train loss: 0.05442442896631029\n",
      "Weights saved for epoch 7\n"
     ]
    },
    {
     "name": "stderr",
     "output_type": "stream",
     "text": [
      "Epochs:  47%|█████████████████████████▋                             | 7/15 [34:20<39:21, 295.20s/it]"
     ]
    },
    {
     "name": "stdout",
     "output_type": "stream",
     "text": [
      "Test loss: 0.08333019721508027\n",
      "\n",
      "Train loss: 0.049795107318295374\n",
      "Weights saved for epoch 8\n"
     ]
    },
    {
     "name": "stderr",
     "output_type": "stream",
     "text": [
      "Epochs:  53%|█████████████████████████████▎                         | 8/15 [39:15<34:26, 295.17s/it]"
     ]
    },
    {
     "name": "stdout",
     "output_type": "stream",
     "text": [
      "Test loss: 0.0805558391213417\n",
      "\n",
      "Train loss: 0.04520990971061919\n",
      "Weights saved for epoch 9\n"
     ]
    },
    {
     "name": "stderr",
     "output_type": "stream",
     "text": [
      "Epochs:  60%|█████████████████████████████████                      | 9/15 [44:10<29:30, 295.15s/it]"
     ]
    },
    {
     "name": "stdout",
     "output_type": "stream",
     "text": [
      "Test loss: 0.07760584050416947\n",
      "\n",
      "Train loss: 0.04237997947798835\n",
      "Weights saved for epoch 10\n"
     ]
    },
    {
     "name": "stderr",
     "output_type": "stream",
     "text": [
      "Epochs:  67%|████████████████████████████████████                  | 10/15 [49:05<24:35, 295.15s/it]"
     ]
    },
    {
     "name": "stdout",
     "output_type": "stream",
     "text": [
      "Test loss: 0.07508446717262268\n",
      "\n",
      "Train loss: 0.039333913491831886\n",
      "Weights saved for epoch 11\n"
     ]
    },
    {
     "name": "stderr",
     "output_type": "stream",
     "text": [
      "Epochs:  73%|███████████████████████████████████████▌              | 11/15 [54:00<19:41, 295.25s/it]"
     ]
    },
    {
     "name": "stdout",
     "output_type": "stream",
     "text": [
      "Test loss: 0.07525718611478806\n",
      "\n"
     ]
    },
    {
     "name": "stderr",
     "output_type": "stream",
     "text": [
      "Epochs:  73%|███████████████████████████████████████▌              | 11/15 [54:12<19:42, 295.65s/it]\n"
     ]
    },
    {
     "ename": "KeyboardInterrupt",
     "evalue": "",
     "output_type": "error",
     "traceback": [
      "\u001b[0;31m---------------------------------------------------------------------------\u001b[0m",
      "\u001b[0;31mKeyboardInterrupt\u001b[0m                         Traceback (most recent call last)",
      "\u001b[0;32m<ipython-input-17-32fdefcf3d7f>\u001b[0m in \u001b[0;36m<cell line: 1>\u001b[0;34m()\u001b[0m\n\u001b[0;32m----> 1\u001b[0;31m \u001b[0mtrain\u001b[0m\u001b[0;34m(\u001b[0m\u001b[0mmodel\u001b[0m\u001b[0;34m,\u001b[0m \u001b[0moptimizer\u001b[0m\u001b[0;34m,\u001b[0m \u001b[0mcriterion\u001b[0m\u001b[0;34m,\u001b[0m \u001b[0;36m15\u001b[0m\u001b[0;34m,\u001b[0m \u001b[0mtrain_dataloader\u001b[0m\u001b[0;34m,\u001b[0m \u001b[0mval_dataloader\u001b[0m\u001b[0;34m)\u001b[0m\u001b[0;34m\u001b[0m\u001b[0;34m\u001b[0m\u001b[0m\n\u001b[0m",
      "\u001b[0;32m<ipython-input-15-b5c21eef4b41>\u001b[0m in \u001b[0;36mtrain\u001b[0;34m(model, optimizer, criterion, epochs, train_dataloader, test_dataloader)\u001b[0m\n\u001b[1;32m     32\u001b[0m \u001b[0;34m\u001b[0m\u001b[0m\n\u001b[1;32m     33\u001b[0m             \u001b[0membed0\u001b[0m \u001b[0;34m=\u001b[0m \u001b[0mmodel\u001b[0m\u001b[0;34m(\u001b[0m\u001b[0mimage0\u001b[0m\u001b[0;34m)\u001b[0m\u001b[0;34m\u001b[0m\u001b[0;34m\u001b[0m\u001b[0m\n\u001b[0;32m---> 34\u001b[0;31m             \u001b[0membed1\u001b[0m \u001b[0;34m=\u001b[0m \u001b[0mmodel\u001b[0m\u001b[0;34m(\u001b[0m\u001b[0mimage1\u001b[0m\u001b[0;34m)\u001b[0m\u001b[0;34m\u001b[0m\u001b[0;34m\u001b[0m\u001b[0m\n\u001b[0m\u001b[1;32m     35\u001b[0m \u001b[0;34m\u001b[0m\u001b[0m\n\u001b[1;32m     36\u001b[0m             \u001b[0mloss\u001b[0m \u001b[0;34m=\u001b[0m \u001b[0mcriterion\u001b[0m\u001b[0;34m(\u001b[0m\u001b[0membed0\u001b[0m\u001b[0;34m,\u001b[0m \u001b[0membed1\u001b[0m\u001b[0;34m,\u001b[0m \u001b[0mlabel\u001b[0m\u001b[0;34m)\u001b[0m\u001b[0;34m\u001b[0m\u001b[0;34m\u001b[0m\u001b[0m\n",
      "\u001b[0;32m/usr/local/lib/python3.10/dist-packages/torch/nn/modules/module.py\u001b[0m in \u001b[0;36m_wrapped_call_impl\u001b[0;34m(self, *args, **kwargs)\u001b[0m\n\u001b[1;32m   1734\u001b[0m             \u001b[0;32mreturn\u001b[0m \u001b[0mself\u001b[0m\u001b[0;34m.\u001b[0m\u001b[0m_compiled_call_impl\u001b[0m\u001b[0;34m(\u001b[0m\u001b[0;34m*\u001b[0m\u001b[0margs\u001b[0m\u001b[0;34m,\u001b[0m \u001b[0;34m**\u001b[0m\u001b[0mkwargs\u001b[0m\u001b[0;34m)\u001b[0m  \u001b[0;31m# type: ignore[misc]\u001b[0m\u001b[0;34m\u001b[0m\u001b[0;34m\u001b[0m\u001b[0m\n\u001b[1;32m   1735\u001b[0m         \u001b[0;32melse\u001b[0m\u001b[0;34m:\u001b[0m\u001b[0;34m\u001b[0m\u001b[0;34m\u001b[0m\u001b[0m\n\u001b[0;32m-> 1736\u001b[0;31m             \u001b[0;32mreturn\u001b[0m \u001b[0mself\u001b[0m\u001b[0;34m.\u001b[0m\u001b[0m_call_impl\u001b[0m\u001b[0;34m(\u001b[0m\u001b[0;34m*\u001b[0m\u001b[0margs\u001b[0m\u001b[0;34m,\u001b[0m \u001b[0;34m**\u001b[0m\u001b[0mkwargs\u001b[0m\u001b[0;34m)\u001b[0m\u001b[0;34m\u001b[0m\u001b[0;34m\u001b[0m\u001b[0m\n\u001b[0m\u001b[1;32m   1737\u001b[0m \u001b[0;34m\u001b[0m\u001b[0m\n\u001b[1;32m   1738\u001b[0m     \u001b[0;31m# torchrec tests the code consistency with the following code\u001b[0m\u001b[0;34m\u001b[0m\u001b[0;34m\u001b[0m\u001b[0m\n",
      "\u001b[0;32m/usr/local/lib/python3.10/dist-packages/torch/nn/modules/module.py\u001b[0m in \u001b[0;36m_call_impl\u001b[0;34m(self, *args, **kwargs)\u001b[0m\n\u001b[1;32m   1745\u001b[0m                 \u001b[0;32mor\u001b[0m \u001b[0m_global_backward_pre_hooks\u001b[0m \u001b[0;32mor\u001b[0m \u001b[0m_global_backward_hooks\u001b[0m\u001b[0;34m\u001b[0m\u001b[0;34m\u001b[0m\u001b[0m\n\u001b[1;32m   1746\u001b[0m                 or _global_forward_hooks or _global_forward_pre_hooks):\n\u001b[0;32m-> 1747\u001b[0;31m             \u001b[0;32mreturn\u001b[0m \u001b[0mforward_call\u001b[0m\u001b[0;34m(\u001b[0m\u001b[0;34m*\u001b[0m\u001b[0margs\u001b[0m\u001b[0;34m,\u001b[0m \u001b[0;34m**\u001b[0m\u001b[0mkwargs\u001b[0m\u001b[0;34m)\u001b[0m\u001b[0;34m\u001b[0m\u001b[0;34m\u001b[0m\u001b[0m\n\u001b[0m\u001b[1;32m   1748\u001b[0m \u001b[0;34m\u001b[0m\u001b[0m\n\u001b[1;32m   1749\u001b[0m         \u001b[0mresult\u001b[0m \u001b[0;34m=\u001b[0m \u001b[0;32mNone\u001b[0m\u001b[0;34m\u001b[0m\u001b[0;34m\u001b[0m\u001b[0m\n",
      "\u001b[0;32m/usr/local/lib/python3.10/dist-packages/torch/nn/parallel/data_parallel.py\u001b[0m in \u001b[0;36mforward\u001b[0;34m(self, *inputs, **kwargs)\u001b[0m\n\u001b[1;32m    191\u001b[0m                 \u001b[0;32mreturn\u001b[0m \u001b[0mself\u001b[0m\u001b[0;34m.\u001b[0m\u001b[0mmodule\u001b[0m\u001b[0;34m(\u001b[0m\u001b[0;34m*\u001b[0m\u001b[0minputs\u001b[0m\u001b[0;34m[\u001b[0m\u001b[0;36m0\u001b[0m\u001b[0;34m]\u001b[0m\u001b[0;34m,\u001b[0m \u001b[0;34m**\u001b[0m\u001b[0mmodule_kwargs\u001b[0m\u001b[0;34m[\u001b[0m\u001b[0;36m0\u001b[0m\u001b[0;34m]\u001b[0m\u001b[0;34m)\u001b[0m\u001b[0;34m\u001b[0m\u001b[0;34m\u001b[0m\u001b[0m\n\u001b[1;32m    192\u001b[0m             \u001b[0mreplicas\u001b[0m \u001b[0;34m=\u001b[0m \u001b[0mself\u001b[0m\u001b[0;34m.\u001b[0m\u001b[0mreplicate\u001b[0m\u001b[0;34m(\u001b[0m\u001b[0mself\u001b[0m\u001b[0;34m.\u001b[0m\u001b[0mmodule\u001b[0m\u001b[0;34m,\u001b[0m \u001b[0mself\u001b[0m\u001b[0;34m.\u001b[0m\u001b[0mdevice_ids\u001b[0m\u001b[0;34m[\u001b[0m\u001b[0;34m:\u001b[0m \u001b[0mlen\u001b[0m\u001b[0;34m(\u001b[0m\u001b[0minputs\u001b[0m\u001b[0;34m)\u001b[0m\u001b[0;34m]\u001b[0m\u001b[0;34m)\u001b[0m\u001b[0;34m\u001b[0m\u001b[0;34m\u001b[0m\u001b[0m\n\u001b[0;32m--> 193\u001b[0;31m             \u001b[0moutputs\u001b[0m \u001b[0;34m=\u001b[0m \u001b[0mself\u001b[0m\u001b[0;34m.\u001b[0m\u001b[0mparallel_apply\u001b[0m\u001b[0;34m(\u001b[0m\u001b[0mreplicas\u001b[0m\u001b[0;34m,\u001b[0m \u001b[0minputs\u001b[0m\u001b[0;34m,\u001b[0m \u001b[0mmodule_kwargs\u001b[0m\u001b[0;34m)\u001b[0m\u001b[0;34m\u001b[0m\u001b[0;34m\u001b[0m\u001b[0m\n\u001b[0m\u001b[1;32m    194\u001b[0m             \u001b[0;32mreturn\u001b[0m \u001b[0mself\u001b[0m\u001b[0;34m.\u001b[0m\u001b[0mgather\u001b[0m\u001b[0;34m(\u001b[0m\u001b[0moutputs\u001b[0m\u001b[0;34m,\u001b[0m \u001b[0mself\u001b[0m\u001b[0;34m.\u001b[0m\u001b[0moutput_device\u001b[0m\u001b[0;34m)\u001b[0m\u001b[0;34m\u001b[0m\u001b[0;34m\u001b[0m\u001b[0m\n\u001b[1;32m    195\u001b[0m \u001b[0;34m\u001b[0m\u001b[0m\n",
      "\u001b[0;32m/usr/local/lib/python3.10/dist-packages/torch/nn/parallel/data_parallel.py\u001b[0m in \u001b[0;36mparallel_apply\u001b[0;34m(self, replicas, inputs, kwargs)\u001b[0m\n\u001b[1;32m    210\u001b[0m         \u001b[0mself\u001b[0m\u001b[0;34m,\u001b[0m \u001b[0mreplicas\u001b[0m\u001b[0;34m:\u001b[0m \u001b[0mSequence\u001b[0m\u001b[0;34m[\u001b[0m\u001b[0mT\u001b[0m\u001b[0;34m]\u001b[0m\u001b[0;34m,\u001b[0m \u001b[0minputs\u001b[0m\u001b[0;34m:\u001b[0m \u001b[0mSequence\u001b[0m\u001b[0;34m[\u001b[0m\u001b[0mAny\u001b[0m\u001b[0;34m]\u001b[0m\u001b[0;34m,\u001b[0m \u001b[0mkwargs\u001b[0m\u001b[0;34m:\u001b[0m \u001b[0mAny\u001b[0m\u001b[0;34m\u001b[0m\u001b[0;34m\u001b[0m\u001b[0m\n\u001b[1;32m    211\u001b[0m     ) -> List[Any]:\n\u001b[0;32m--> 212\u001b[0;31m         return parallel_apply(\n\u001b[0m\u001b[1;32m    213\u001b[0m             \u001b[0mreplicas\u001b[0m\u001b[0;34m,\u001b[0m \u001b[0minputs\u001b[0m\u001b[0;34m,\u001b[0m \u001b[0mkwargs\u001b[0m\u001b[0;34m,\u001b[0m \u001b[0mself\u001b[0m\u001b[0;34m.\u001b[0m\u001b[0mdevice_ids\u001b[0m\u001b[0;34m[\u001b[0m\u001b[0;34m:\u001b[0m \u001b[0mlen\u001b[0m\u001b[0;34m(\u001b[0m\u001b[0mreplicas\u001b[0m\u001b[0;34m)\u001b[0m\u001b[0;34m]\u001b[0m\u001b[0;34m\u001b[0m\u001b[0;34m\u001b[0m\u001b[0m\n\u001b[1;32m    214\u001b[0m         )\n",
      "\u001b[0;32m/usr/local/lib/python3.10/dist-packages/torch/nn/parallel/parallel_apply.py\u001b[0m in \u001b[0;36mparallel_apply\u001b[0;34m(modules, inputs, kwargs_tup, devices)\u001b[0m\n\u001b[1;32m    116\u001b[0m             \u001b[0mthread\u001b[0m\u001b[0;34m.\u001b[0m\u001b[0mstart\u001b[0m\u001b[0;34m(\u001b[0m\u001b[0;34m)\u001b[0m\u001b[0;34m\u001b[0m\u001b[0;34m\u001b[0m\u001b[0m\n\u001b[1;32m    117\u001b[0m         \u001b[0;32mfor\u001b[0m \u001b[0mthread\u001b[0m \u001b[0;32min\u001b[0m \u001b[0mthreads\u001b[0m\u001b[0;34m:\u001b[0m\u001b[0;34m\u001b[0m\u001b[0;34m\u001b[0m\u001b[0m\n\u001b[0;32m--> 118\u001b[0;31m             \u001b[0mthread\u001b[0m\u001b[0;34m.\u001b[0m\u001b[0mjoin\u001b[0m\u001b[0;34m(\u001b[0m\u001b[0;34m)\u001b[0m\u001b[0;34m\u001b[0m\u001b[0;34m\u001b[0m\u001b[0m\n\u001b[0m\u001b[1;32m    119\u001b[0m     \u001b[0;32melse\u001b[0m\u001b[0;34m:\u001b[0m\u001b[0;34m\u001b[0m\u001b[0;34m\u001b[0m\u001b[0m\n\u001b[1;32m    120\u001b[0m         \u001b[0m_worker\u001b[0m\u001b[0;34m(\u001b[0m\u001b[0;36m0\u001b[0m\u001b[0;34m,\u001b[0m \u001b[0mmodules\u001b[0m\u001b[0;34m[\u001b[0m\u001b[0;36m0\u001b[0m\u001b[0;34m]\u001b[0m\u001b[0;34m,\u001b[0m \u001b[0minputs\u001b[0m\u001b[0;34m[\u001b[0m\u001b[0;36m0\u001b[0m\u001b[0;34m]\u001b[0m\u001b[0;34m,\u001b[0m \u001b[0mkwargs_tup\u001b[0m\u001b[0;34m[\u001b[0m\u001b[0;36m0\u001b[0m\u001b[0;34m]\u001b[0m\u001b[0;34m,\u001b[0m \u001b[0mdevices\u001b[0m\u001b[0;34m[\u001b[0m\u001b[0;36m0\u001b[0m\u001b[0;34m]\u001b[0m\u001b[0;34m,\u001b[0m \u001b[0mstreams\u001b[0m\u001b[0;34m[\u001b[0m\u001b[0;36m0\u001b[0m\u001b[0;34m]\u001b[0m\u001b[0;34m)\u001b[0m\u001b[0;34m\u001b[0m\u001b[0;34m\u001b[0m\u001b[0m\n",
      "\u001b[0;32m/usr/lib/python3.10/threading.py\u001b[0m in \u001b[0;36mjoin\u001b[0;34m(self, timeout)\u001b[0m\n\u001b[1;32m   1094\u001b[0m \u001b[0;34m\u001b[0m\u001b[0m\n\u001b[1;32m   1095\u001b[0m         \u001b[0;32mif\u001b[0m \u001b[0mtimeout\u001b[0m \u001b[0;32mis\u001b[0m \u001b[0;32mNone\u001b[0m\u001b[0;34m:\u001b[0m\u001b[0;34m\u001b[0m\u001b[0;34m\u001b[0m\u001b[0m\n\u001b[0;32m-> 1096\u001b[0;31m             \u001b[0mself\u001b[0m\u001b[0;34m.\u001b[0m\u001b[0m_wait_for_tstate_lock\u001b[0m\u001b[0;34m(\u001b[0m\u001b[0;34m)\u001b[0m\u001b[0;34m\u001b[0m\u001b[0;34m\u001b[0m\u001b[0m\n\u001b[0m\u001b[1;32m   1097\u001b[0m         \u001b[0;32melse\u001b[0m\u001b[0;34m:\u001b[0m\u001b[0;34m\u001b[0m\u001b[0;34m\u001b[0m\u001b[0m\n\u001b[1;32m   1098\u001b[0m             \u001b[0;31m# the behavior of a negative timeout isn't documented, but\u001b[0m\u001b[0;34m\u001b[0m\u001b[0;34m\u001b[0m\u001b[0m\n",
      "\u001b[0;32m/usr/lib/python3.10/threading.py\u001b[0m in \u001b[0;36m_wait_for_tstate_lock\u001b[0;34m(self, block, timeout)\u001b[0m\n\u001b[1;32m   1114\u001b[0m \u001b[0;34m\u001b[0m\u001b[0m\n\u001b[1;32m   1115\u001b[0m         \u001b[0;32mtry\u001b[0m\u001b[0;34m:\u001b[0m\u001b[0;34m\u001b[0m\u001b[0;34m\u001b[0m\u001b[0m\n\u001b[0;32m-> 1116\u001b[0;31m             \u001b[0;32mif\u001b[0m \u001b[0mlock\u001b[0m\u001b[0;34m.\u001b[0m\u001b[0macquire\u001b[0m\u001b[0;34m(\u001b[0m\u001b[0mblock\u001b[0m\u001b[0;34m,\u001b[0m \u001b[0mtimeout\u001b[0m\u001b[0;34m)\u001b[0m\u001b[0;34m:\u001b[0m\u001b[0;34m\u001b[0m\u001b[0;34m\u001b[0m\u001b[0m\n\u001b[0m\u001b[1;32m   1117\u001b[0m                 \u001b[0mlock\u001b[0m\u001b[0;34m.\u001b[0m\u001b[0mrelease\u001b[0m\u001b[0;34m(\u001b[0m\u001b[0;34m)\u001b[0m\u001b[0;34m\u001b[0m\u001b[0;34m\u001b[0m\u001b[0m\n\u001b[1;32m   1118\u001b[0m                 \u001b[0mself\u001b[0m\u001b[0;34m.\u001b[0m\u001b[0m_stop\u001b[0m\u001b[0;34m(\u001b[0m\u001b[0;34m)\u001b[0m\u001b[0;34m\u001b[0m\u001b[0;34m\u001b[0m\u001b[0m\n",
      "\u001b[0;31mKeyboardInterrupt\u001b[0m: "
     ]
    }
   ],
   "source": [
    "train(model, optimizer, criterion, 15, train_dataloader, val_dataloader)"
   ]
  },
  {
   "cell_type": "code",
   "execution_count": 24,
   "metadata": {
    "execution": {
     "iopub.execute_input": "2025-03-07T16:58:18.160383Z",
     "iopub.status.busy": "2025-03-07T16:58:18.160103Z",
     "iopub.status.idle": "2025-03-07T16:58:18.164668Z",
     "shell.execute_reply": "2025-03-07T16:58:18.163835Z",
     "shell.execute_reply.started": "2025-03-07T16:58:18.160361Z"
    },
    "trusted": true
   },
   "outputs": [],
   "source": [
    "train_all_dataset = FaceEshkereDataset(all_pairs, 'train')\n",
    "train_all_dataloader = DataLoader(train_all_dataset, batch_size = 64, shuffle=True, num_workers=2, pin_memory=True)\n"
   ]
  },
  {
   "cell_type": "code",
   "execution_count": 27,
   "metadata": {
    "execution": {
     "iopub.execute_input": "2025-03-07T16:59:39.872573Z",
     "iopub.status.busy": "2025-03-07T16:59:39.872243Z",
     "iopub.status.idle": "2025-03-07T16:59:39.878890Z",
     "shell.execute_reply": "2025-03-07T16:59:39.878061Z",
     "shell.execute_reply.started": "2025-03-07T16:59:39.872535Z"
    },
    "trusted": true
   },
   "outputs": [],
   "source": [
    "def train_all(model, train_all_dataloader, criterion, optimizer, epochs):\n",
    "    sum_loss =  0\n",
    "    loss_norm = 0\n",
    "\n",
    "    device = torch.device(\"cuda\" if torch.cuda.is_available() else \"cpu\")\n",
    "    model.to(device)\n",
    "    if torch.cuda.device_count() > 1:\n",
    "        print(f\"Using {torch.cuda.device_count()} GPUs!\")\n",
    "        model = DataParallel(model)\n",
    "    for epoch in range(epochs): \n",
    "        model.train()\n",
    "        for img0, img1, label in train_all_dataloader:\n",
    "            img0 = img0.to(device)\n",
    "            img1 = img1.to(device)\n",
    "            label = label.to(device)\n",
    "            emb0 = model(img0)\n",
    "            emb1 = model(img1)\n",
    "    \n",
    "            optimizer.zero_grad()\n",
    "            loss = criterion(emb0, emb1, label)\n",
    "            sum_loss += loss.item() * img0.size(0)\n",
    "            loss_norm += img0.size(0)\n",
    "            loss.backward()\n",
    "            optimizer.step()\n",
    "    \n",
    "        print(f'Тренировочный лосс: {sum_loss/loss_norm}')\n",
    "            "
   ]
  },
  {
   "cell_type": "code",
   "execution_count": 28,
   "metadata": {
    "execution": {
     "iopub.execute_input": "2025-03-07T16:59:42.204397Z",
     "iopub.status.busy": "2025-03-07T16:59:42.204086Z",
     "iopub.status.idle": "2025-03-07T17:09:38.713434Z",
     "shell.execute_reply": "2025-03-07T17:09:38.712248Z",
     "shell.execute_reply.started": "2025-03-07T16:59:42.204371Z"
    },
    "trusted": true
   },
   "outputs": [
    {
     "name": "stdout",
     "output_type": "stream",
     "text": [
      "Using 2 GPUs!\n",
      "Тренировочный лосс: 0.04363622597455978\n",
      "Тренировочный лосс: 0.0416839426279068\n"
     ]
    }
   ],
   "source": [
    "train_all(model, train_all_dataloader, criterion, optimizer, 2)"
   ]
  },
  {
   "cell_type": "code",
   "execution_count": 30,
   "metadata": {
    "execution": {
     "iopub.execute_input": "2025-03-07T17:11:26.398530Z",
     "iopub.status.busy": "2025-03-07T17:11:26.398111Z",
     "iopub.status.idle": "2025-03-07T17:11:26.805618Z",
     "shell.execute_reply": "2025-03-07T17:11:26.804721Z",
     "shell.execute_reply.started": "2025-03-07T17:11:26.398500Z"
    },
    "trusted": true
   },
   "outputs": [
    {
     "name": "stderr",
     "output_type": "stream",
     "text": [
      "<ipython-input-30-6f9cf111d528>:1: FutureWarning: You are using `torch.load` with `weights_only=False` (the current default value), which uses the default pickle module implicitly. It is possible to construct malicious pickle data which will execute arbitrary code during unpickling (See https://github.com/pytorch/pytorch/blob/main/SECURITY.md#untrusted-models for more details). In a future release, the default value for `weights_only` will be flipped to `True`. This limits the functions that could be executed during unpickling. Arbitrary objects will no longer be allowed to be loaded via this mode unless they are explicitly allowlisted by the user via `torch.serialization.add_safe_globals`. We recommend you start setting `weights_only=True` for any use case where you don't have full control of the loaded file. Please open an issue on GitHub for any issues related to this experimental feature.\n",
      "  model.load_state_dict(torch.load('/kaggle/working/model_weights_epoch_10.pth'))\n"
     ]
    },
    {
     "data": {
      "text/plain": [
       "<All keys matched successfully>"
      ]
     },
     "execution_count": 30,
     "metadata": {},
     "output_type": "execute_result"
    }
   ],
   "source": [
    "model.load_state_dict(torch.load('/kaggle/working/model_weights_epoch_10.pth'))"
   ]
  },
  {
   "cell_type": "code",
   "execution_count": 31,
   "metadata": {
    "execution": {
     "iopub.execute_input": "2025-03-07T17:11:49.266206Z",
     "iopub.status.busy": "2025-03-07T17:11:49.265883Z",
     "iopub.status.idle": "2025-03-07T17:21:45.704885Z",
     "shell.execute_reply": "2025-03-07T17:21:45.704061Z",
     "shell.execute_reply.started": "2025-03-07T17:11:49.266179Z"
    },
    "trusted": true
   },
   "outputs": [
    {
     "name": "stdout",
     "output_type": "stream",
     "text": [
      "Using 2 GPUs!\n",
      "Тренировочный лосс: 0.0497618784070015\n",
      "Тренировочный лосс: 0.04635836049616337\n"
     ]
    }
   ],
   "source": [
    "train_all(model, train_all_dataloader, criterion, optimizer, 2)"
   ]
  },
  {
   "cell_type": "code",
   "execution_count": 32,
   "metadata": {
    "execution": {
     "iopub.execute_input": "2025-03-07T17:22:02.454641Z",
     "iopub.status.busy": "2025-03-07T17:22:02.454312Z",
     "iopub.status.idle": "2025-03-07T17:22:03.197775Z",
     "shell.execute_reply": "2025-03-07T17:22:03.197112Z",
     "shell.execute_reply.started": "2025-03-07T17:22:02.454617Z"
    },
    "trusted": true
   },
   "outputs": [],
   "source": [
    "torch.save(model.state_dict(), 'model_final_weights_2.0.pth')"
   ]
  },
  {
   "cell_type": "markdown",
   "metadata": {},
   "source": [
    "Оценка модели "
   ]
  },
  {
   "cell_type": "code",
   "execution_count": null,
   "metadata": {
    "execution": {
     "iopub.execute_input": "2025-03-07T13:21:36.109065Z",
     "iopub.status.busy": "2025-03-07T13:21:36.108637Z",
     "iopub.status.idle": "2025-03-07T13:22:13.993304Z",
     "shell.execute_reply": "2025-03-07T13:22:13.992421Z",
     "shell.execute_reply.started": "2025-03-07T13:21:36.109032Z"
    },
    "trusted": true
   },
   "outputs": [],
   "source": [
    "import torch\n",
    "from torch.utils.data import DataLoader\n",
    "from sklearn.metrics import accuracy_score, f1_score, roc_auc_score\n",
    "import numpy as np\n",
    "from scipy.spatial.distance import cosine\n",
    "from sklearn.metrics import roc_curve\n",
    "\n",
    "# Определение функции для вычисления EER\n",
    "def compute_eer(y_true, y_score):\n",
    "    fpr, tpr, threshold = roc_curve(y_true, y_score)\n",
    "\n",
    "    eps = 1e-3\n",
    "    threshold[0] = max(threshold[1:]) + eps\n",
    "\n",
    "    fnr = 1 - tpr\n",
    "    eer_index = np.nanargmin(np.absolute((fnr - fpr)))\n",
    "    eer = fnr[eer_index]\n",
    "    return eer\n",
    "\n",
    "# Определение функции для вычисления косинусного сходства\n",
    "def cosine_similarity(embedding1, embedding2):\n",
    "    return 1 - cosine(embedding1.cpu().numpy(), embedding2.cpu().numpy())\n",
    "\n",
    "# Перенос модели на GPU\n",
    "device = torch.device('cuda' if torch.cuda.is_available() else 'cpu')\n",
    "model = model.to(device)\n",
    "model.eval()\n",
    "\n",
    "y_scores = []\n",
    "y_true = []\n",
    "\n",
    "# Создание DataLoader для валидационного набора данных\n",
    "val_dataset = FaceEshkereDataset(all_pairs[:800], 'test')\n",
    "val_dataloader = DataLoader(val_dataset, batch_size=64, shuffle=True, num_workers=0)\n",
    "\n",
    "# Проход по данным и вычисление сходства\n",
    "for pair in val_dataset:\n",
    "    # Перенос данных на GPU\n",
    "    img1 = pair[0].unsqueeze(0).to(device)\n",
    "    img2 = pair[1].unsqueeze(0).to(device)\n",
    "    \n",
    "    # Получение эмбеддингов\n",
    "    emb1 = model(img1)\n",
    "    emb2 = model(img2)\n",
    "    \n",
    "    # Перенос эмбеддингов на CPU для вычисления косинусного сходства\n",
    "    emb1 = emb1.squeeze(0).detach().cpu()\n",
    "    emb2 = emb2.squeeze(0).detach().cpu()\n",
    "    \n",
    "    # Вычисление косинусного сходства\n",
    "    similarity = cosine_similarity(emb1, emb2)\n",
    "    y_scores.append(similarity)\n",
    "    \n",
    "    # Преобразование меток: -1 -> 0, 1 -> 1\n",
    "    y_true.append(1 if pair[2] == 1 else 0)\n",
    "\n",
    "# Вычисление EER\n",
    "eer = compute_eer(y_true, y_scores)\n",
    "print(f\"Equal Error Rate (EER): {eer:.4f}\")"
   ]
  }
 ],
 "metadata": {
  "kaggle": {
   "accelerator": "nvidiaTeslaT4",
   "dataSources": [
    {
     "datasetId": 6779833,
     "sourceId": 10907467,
     "sourceType": "datasetVersion"
    },
    {
     "datasetId": 6804251,
     "sourceId": 10941017,
     "sourceType": "datasetVersion"
    }
   ],
   "dockerImageVersionId": 30918,
   "isGpuEnabled": true,
   "isInternetEnabled": true,
   "language": "python",
   "sourceType": "notebook"
  },
  "kernelspec": {
   "display_name": "Python 3",
   "language": "python",
   "name": "python3"
  },
  "language_info": {
   "codemirror_mode": {
    "name": "ipython",
    "version": 3
   },
   "file_extension": ".py",
   "mimetype": "text/x-python",
   "name": "python",
   "nbconvert_exporter": "python",
   "pygments_lexer": "ipython3",
   "version": "3.10.12"
  }
 },
 "nbformat": 4,
 "nbformat_minor": 4
}
